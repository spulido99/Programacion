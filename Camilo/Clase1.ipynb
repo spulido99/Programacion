{
 "cells": [
  {
   "cell_type": "markdown",
   "metadata": {},
   "source": [
    "Bases de datos. Convertir un archivo formato texto una matriz.\n",
    "\n",
    "Bases de datos estructuradas.\n",
    "Normalizar (separar por valores)\n",
    "Claves foraneas. \n",
    "Para consultar una base de datos: standar query language (SQL):\n",
    "\n",
    "    SQL: Select\n",
    "         From\n",
    "         Where (condiciones)\n",
    "Dataframe: los datos tengan integridad\n"
   ]
  },
  {
   "cell_type": "code",
   "execution_count": null,
   "metadata": {
    "collapsed": true
   },
   "outputs": [],
   "source": [
    "x.split(\"\\t\") for x in open(file)"
   ]
  }
 ],
 "metadata": {
  "kernelspec": {
   "display_name": "Python 2",
   "language": "python",
   "name": "python2"
  },
  "language_info": {
   "codemirror_mode": {
    "name": "ipython",
    "version": 2
   },
   "file_extension": ".py",
   "mimetype": "text/x-python",
   "name": "python",
   "nbconvert_exporter": "python",
   "pygments_lexer": "ipython2",
   "version": "2.7.13"
  }
 },
 "nbformat": 4,
 "nbformat_minor": 2
}
