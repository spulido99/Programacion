{
 "cells": [
  {
   "cell_type": "markdown",
   "metadata": {},
   "source": [
    "# Analysis of brain data questionary"
   ]
  },
  {
   "cell_type": "code",
   "execution_count": 1,
   "metadata": {
    "collapsed": true
   },
   "outputs": [],
   "source": [
    "import pandas as pd"
   ]
  },
  {
   "cell_type": "code",
   "execution_count": 7,
   "metadata": {
    "collapsed": true
   },
   "outputs": [],
   "source": [
    "data = pd.read_csv('http://brainomics.cea.fr/localizer/dataset?rql=Any%20X%2CXI%2CXD%20WHERE%20X%20is%20QuestionnaireRun%2C%20X%20identifier%20XI%2C%20X%20datetime%20XD&vid=csvexport', sep=',' )"
   ]
  },
  {
   "cell_type": "code",
   "execution_count": 8,
   "metadata": {
    "collapsed": false
   },
   "outputs": [],
   "source": [
    "data_df = pd.DataFrame(data)"
   ]
  },
  {
   "cell_type": "code",
   "execution_count": 9,
   "metadata": {
    "collapsed": false
   },
   "outputs": [
    {
     "data": {
      "text/html": [
       "<div>\n",
       "<table border=\"1\" class=\"dataframe\">\n",
       "  <thead>\n",
       "    <tr style=\"text-align: right;\">\n",
       "      <th></th>\n",
       "      <th>\"subject_id\";\"\"\"lieux\"\"\";\"\"\"lin_vs_log\"\"\";\"\"\"imagerie\"\"\";\"\"\"itineraire_plan\"\"\";\"\"\"lecture_ok\"\"\";\"\"\"lettre_miroir\"\"\";\"\"\"g_contrarie\"\"\";\"\"\"gaucherie\"\"\";\"\"\"geometrie\"\"\";\"\"\"id\"\"\";\"\"\"nuage11\"\"\";\"\"\"nuage10\"\"\";\"\"\"nuage1\"\"\";\"\"\"normalized_pw\"\"\";\"\"\"nom_des_gens\"\"\";\"\"\"niveau_etude\"\"\";\"\"\"moyenne_pw_w\"\"\";\"\"\"mot\"\"\";\"\"\"lycee\"\"\";\"\"\"visuel_verbal\"\"\";\"\"\"type_pb_langage\"\"\";\"\"\"visage\"\"\";\"\"\"trajet\"\"\";\"\"\"tv\"\"\";\"\"\"nuage9\"\"\";\"\"\"oiseau\"\"\";\"\"\"visu_vb_pour_calcul\"\"\";\"\"\"nuage3\"\"\";\"\"\"nuage4\"\"\";\"\"\"nuage12\"\"\";\"\"\"nuage2\"\"\";\"\"\"nuage7\"\"\";\"\"\"nuage8\"\"\";\"\"\"nuage5\"\"\";\"\"\"nuage6\"\"\";\"\"\"pair3\"\"\";\"\"\"pair2\"\"\";\"\"\"pair5\"\"\";\"\"\"pair4\"\"\";\"\"\"orthophoniste\"\"\";\"\"\"orientation\"\"\";\"\"\"pair1\"\"\";\"\"\"pain\"\"\";\"\"\"pb_2eme_langue\"\"\";\"\"\"parle_tard\"\"\";\"\"\"bruxe\"\"\";\"\"\"bonne_reconnaissance\"\"\";\"\"\"billet\"\"\";\"\"\"bilingue\"\"\";\"\"\"coef_estim_qt\"\"\";\"\"\"coef_bisec\"\"\";\"\"\"car\"\"\";\"\"\"bus\"\"\";\"\"\"couleur\"\"\";\"\"\"comment\"\"\";\"\"\"avion\"\"\";\"\"\"autoevaluation_rotation\"\"\";\"\"\"autoevaluation_dessin\"\"\";\"\"\"autoevaluation_cx\"\"\";\"\"\"autoestimation_calcul\"\"\";\"\"\"aspect\"\"\";\"\"\"arc\"\"\";\"\"\"arbre\"\"\";\"\"\"algebre\"\"\";\"\"\"activites_pratiques_nb\"\"\";\"\"\"pb_lecture\"\"\";\"\"\"pb_nonlangage\"\"\";\"\"\"pb_a_l_ecole\"\"\";\"\"\"pb_allocentrique\"\"\";\"\"\"pb_binaire\"\"\";\"\"\"pb_consonne\"\"\";\"\"\"pb_ecriture\"\"\";\"\"\"pb_egocentrique\"\"\";\"\"\"pb_en_3d\"\"\";\"\"\"pb_express\"\"\";\"\"\"dyslexie\"\"\";\"\"\"edimburgh\"\"\";\"\"\"difficulte_calc_localizer\"\"\";\"\"\"droitier\"\"\";\"\"\"difference_pw_w\"\"\";\"\"\"difficult_apprend_lire\"\"\";\"\"\"dessin_note_sur_20\"\"\";\"\"\"details\"\"\";\"\"\"decomposition\"\"\";\"\"\"dessin_fini\"\"\";\"\"\"seine\"\"\";\"\"\"score_tableau_langage\"\"\";\"\"\"score_soustraction\"\"\";\"\"\"score_pb_g_d\"\"\";\"\"\"score_multiplication\"\"\";\"\"\"score_imageur\"\"\";\"\"\"score_cal_complexe\"\"\";\"\"\"score_addition\"\"\";\"\"\"synaesthete\"\"\";\"\"\"strategie\"\"\";\"\"\"pente_sujet_estim_lin\"\"\";\"\"\"pente_estim_qt\"\"\";\"\"\"pb_reconnaissance\"\"\";\"\"\"pb_prononc\"\"\";\"\"\"pb_phono\"\"\";\"\"\"pb_orthogr\"\"\";\"\"\"pente_dots_log\"\"\";\"\"\"pente_dots_lin\"\"\";\"\"\"pente_bisec\"\"\";\"\"\"pb_rotation\"\"\";\"\"\"francais1erl\"\"\";\"\"\"facilite_soustraction\"\"\";\"\"\"erreur_ps_w\"\"\";\"\"\"erreur_langage\"\"\";\"\"\"error\"\"\";\"\"\"erreur_w\"\"\";\"\"\"espece_plante\"\"\";\"\"\"espece_animales\"\"\";\"\"\"facilite_multiplication\"\"\";\"\"\"facilite_addition\"\"\";\"\"\"pente_sujet_estim_log\"\"\";\"\"\"perspective\"\"\";\"\"\"probleme_ecole\"\"\";\"\"\"pseudo\"\"\";\"\"\"r2_dots_lin\"\"\";\"\"\"r2_dots_log\"\"\";\"\"\"rapport_pente_lin_groupe\"\"\";\"\"\"rapport_pente_log_groupe\"\"\";\"\"\"ratio_pw_w\"\"\";\"\"\"score_3d\"\"\"</th>\n",
       "    </tr>\n",
       "  </thead>\n",
       "  <tbody>\n",
       "    <tr>\n",
       "      <th>0</th>\n",
       "      <td>S57;2.0;-0.036005;3.0;None;1.0;None;None;0.13;...</td>\n",
       "    </tr>\n",
       "    <tr>\n",
       "      <th>1</th>\n",
       "      <td>S56;1.0;-0.0200327;3.0;1.0;1.0;None;None;None;...</td>\n",
       "    </tr>\n",
       "    <tr>\n",
       "      <th>2</th>\n",
       "      <td>S55;2.0;-0.0959172;3.0;None;1.0;1.0;None;None;...</td>\n",
       "    </tr>\n",
       "    <tr>\n",
       "      <th>3</th>\n",
       "      <td>S54;1.0;-0.103711;2.0;None;1.0;None;None;0.33;...</td>\n",
       "    </tr>\n",
       "    <tr>\n",
       "      <th>4</th>\n",
       "      <td>S53;1.0;-0.038159;3.0;1.0;1.0;None;None;0.5;3....</td>\n",
       "    </tr>\n",
       "  </tbody>\n",
       "</table>\n",
       "</div>"
      ],
      "text/plain": [
       "  \"subject_id\";\"\"\"lieux\"\"\";\"\"\"lin_vs_log\"\"\";\"\"\"imagerie\"\"\";\"\"\"itineraire_plan\"\"\";\"\"\"lecture_ok\"\"\";\"\"\"lettre_miroir\"\"\";\"\"\"g_contrarie\"\"\";\"\"\"gaucherie\"\"\";\"\"\"geometrie\"\"\";\"\"\"id\"\"\";\"\"\"nuage11\"\"\";\"\"\"nuage10\"\"\";\"\"\"nuage1\"\"\";\"\"\"normalized_pw\"\"\";\"\"\"nom_des_gens\"\"\";\"\"\"niveau_etude\"\"\";\"\"\"moyenne_pw_w\"\"\";\"\"\"mot\"\"\";\"\"\"lycee\"\"\";\"\"\"visuel_verbal\"\"\";\"\"\"type_pb_langage\"\"\";\"\"\"visage\"\"\";\"\"\"trajet\"\"\";\"\"\"tv\"\"\";\"\"\"nuage9\"\"\";\"\"\"oiseau\"\"\";\"\"\"visu_vb_pour_calcul\"\"\";\"\"\"nuage3\"\"\";\"\"\"nuage4\"\"\";\"\"\"nuage12\"\"\";\"\"\"nuage2\"\"\";\"\"\"nuage7\"\"\";\"\"\"nuage8\"\"\";\"\"\"nuage5\"\"\";\"\"\"nuage6\"\"\";\"\"\"pair3\"\"\";\"\"\"pair2\"\"\";\"\"\"pair5\"\"\";\"\"\"pair4\"\"\";\"\"\"orthophoniste\"\"\";\"\"\"orientation\"\"\";\"\"\"pair1\"\"\";\"\"\"pain\"\"\";\"\"\"pb_2eme_langue\"\"\";\"\"\"parle_tard\"\"\";\"\"\"bruxe\"\"\";\"\"\"bonne_reconnaissance\"\"\";\"\"\"billet\"\"\";\"\"\"bilingue\"\"\";\"\"\"coef_estim_qt\"\"\";\"\"\"coef_bisec\"\"\";\"\"\"car\"\"\";\"\"\"bus\"\"\";\"\"\"couleur\"\"\";\"\"\"comment\"\"\";\"\"\"avion\"\"\";\"\"\"autoevaluation_rotation\"\"\";\"\"\"autoevaluation_dessin\"\"\";\"\"\"autoevaluation_cx\"\"\";\"\"\"autoestimation_calcul\"\"\";\"\"\"aspect\"\"\";\"\"\"arc\"\"\";\"\"\"arbre\"\"\";\"\"\"algebre\"\"\";\"\"\"activites_pratiques_nb\"\"\";\"\"\"pb_lecture\"\"\";\"\"\"pb_nonlangage\"\"\";\"\"\"pb_a_l_ecole\"\"\";\"\"\"pb_allocentrique\"\"\";\"\"\"pb_binaire\"\"\";\"\"\"pb_consonne\"\"\";\"\"\"pb_ecriture\"\"\";\"\"\"pb_egocentrique\"\"\";\"\"\"pb_en_3d\"\"\";\"\"\"pb_express\"\"\";\"\"\"dyslexie\"\"\";\"\"\"edimburgh\"\"\";\"\"\"difficulte_calc_localizer\"\"\";\"\"\"droitier\"\"\";\"\"\"difference_pw_w\"\"\";\"\"\"difficult_apprend_lire\"\"\";\"\"\"dessin_note_sur_20\"\"\";\"\"\"details\"\"\";\"\"\"decomposition\"\"\";\"\"\"dessin_fini\"\"\";\"\"\"seine\"\"\";\"\"\"score_tableau_langage\"\"\";\"\"\"score_soustraction\"\"\";\"\"\"score_pb_g_d\"\"\";\"\"\"score_multiplication\"\"\";\"\"\"score_imageur\"\"\";\"\"\"score_cal_complexe\"\"\";\"\"\"score_addition\"\"\";\"\"\"synaesthete\"\"\";\"\"\"strategie\"\"\";\"\"\"pente_sujet_estim_lin\"\"\";\"\"\"pente_estim_qt\"\"\";\"\"\"pb_reconnaissance\"\"\";\"\"\"pb_prononc\"\"\";\"\"\"pb_phono\"\"\";\"\"\"pb_orthogr\"\"\";\"\"\"pente_dots_log\"\"\";\"\"\"pente_dots_lin\"\"\";\"\"\"pente_bisec\"\"\";\"\"\"pb_rotation\"\"\";\"\"\"francais1erl\"\"\";\"\"\"facilite_soustraction\"\"\";\"\"\"erreur_ps_w\"\"\";\"\"\"erreur_langage\"\"\";\"\"\"error\"\"\";\"\"\"erreur_w\"\"\";\"\"\"espece_plante\"\"\";\"\"\"espece_animales\"\"\";\"\"\"facilite_multiplication\"\"\";\"\"\"facilite_addition\"\"\";\"\"\"pente_sujet_estim_log\"\"\";\"\"\"perspective\"\"\";\"\"\"probleme_ecole\"\"\";\"\"\"pseudo\"\"\";\"\"\"r2_dots_lin\"\"\";\"\"\"r2_dots_log\"\"\";\"\"\"rapport_pente_lin_groupe\"\"\";\"\"\"rapport_pente_log_groupe\"\"\";\"\"\"ratio_pw_w\"\"\";\"\"\"score_3d\"\"\"\n",
       "0  S57;2.0;-0.036005;3.0;None;1.0;None;None;0.13;...                                                                                                                                                                                                                                                                                                                                                                                                                                                                                                                                                                                                                                                                                                                                                                                                                                                                                                                                                                                                                                                                                                                                                                                                                                                                                                                                                                                                                                                                                                                                                                                                                                                                                                                                                                                                                                                                                                                                                                                                                                                                                                                                                                                                                                                                                                           \n",
       "1  S56;1.0;-0.0200327;3.0;1.0;1.0;None;None;None;...                                                                                                                                                                                                                                                                                                                                                                                                                                                                                                                                                                                                                                                                                                                                                                                                                                                                                                                                                                                                                                                                                                                                                                                                                                                                                                                                                                                                                                                                                                                                                                                                                                                                                                                                                                                                                                                                                                                                                                                                                                                                                                                                                                                                                                                                                                           \n",
       "2  S55;2.0;-0.0959172;3.0;None;1.0;1.0;None;None;...                                                                                                                                                                                                                                                                                                                                                                                                                                                                                                                                                                                                                                                                                                                                                                                                                                                                                                                                                                                                                                                                                                                                                                                                                                                                                                                                                                                                                                                                                                                                                                                                                                                                                                                                                                                                                                                                                                                                                                                                                                                                                                                                                                                                                                                                                                           \n",
       "3  S54;1.0;-0.103711;2.0;None;1.0;None;None;0.33;...                                                                                                                                                                                                                                                                                                                                                                                                                                                                                                                                                                                                                                                                                                                                                                                                                                                                                                                                                                                                                                                                                                                                                                                                                                                                                                                                                                                                                                                                                                                                                                                                                                                                                                                                                                                                                                                                                                                                                                                                                                                                                                                                                                                                                                                                                                           \n",
       "4  S53;1.0;-0.038159;3.0;1.0;1.0;None;None;0.5;3....                                                                                                                                                                                                                                                                                                                                                                                                                                                                                                                                                                                                                                                                                                                                                                                                                                                                                                                                                                                                                                                                                                                                                                                                                                                                                                                                                                                                                                                                                                                                                                                                                                                                                                                                                                                                                                                                                                                                                                                                                                                                                                                                                                                                                                                                                                           "
      ]
     },
     "execution_count": 9,
     "metadata": {},
     "output_type": "execute_result"
    }
   ],
   "source": [
    "data_df.head()"
   ]
  },
  {
   "cell_type": "code",
   "execution_count": null,
   "metadata": {
    "collapsed": true
   },
   "outputs": [],
   "source": []
  }
 ],
 "metadata": {
  "kernelspec": {
   "display_name": "Python 2",
   "language": "python",
   "name": "python2"
  },
  "language_info": {
   "codemirror_mode": {
    "name": "ipython",
    "version": 2
   },
   "file_extension": ".py",
   "mimetype": "text/x-python",
   "name": "python",
   "nbconvert_exporter": "python",
   "pygments_lexer": "ipython2",
   "version": "2.7.13"
  }
 },
 "nbformat": 4,
 "nbformat_minor": 2
}
