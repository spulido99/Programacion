{
 "cells": [
  {
   "cell_type": "markdown",
   "metadata": {},
   "source": [
    "# Archivos y Bases de datos"
   ]
  },
  {
   "cell_type": "markdown",
   "metadata": {},
   "source": [
    "La idea de este taller es manipular archivos (leerlos, parsearlos y escribirlos) y hacer lo mismo con bases de datos estructuradas."
   ]
  },
  {
   "cell_type": "markdown",
   "metadata": {},
   "source": [
    "## Ejercicio 1\n",
    "\n",
    "Baje el archivo de \"All associations with added ontology annotations\" del GWAS Catalog.\n",
    "+ https://www.ebi.ac.uk/gwas/docs/file-downloads\n",
    "\n",
    "Describa las columnas del archivo (_que información estamos mirando? Para qué sirve? Por qué la hicieron?_)"
   ]
  },
  {
   "cell_type": "code",
   "execution_count": null,
   "metadata": {
    "collapsed": false
   },
   "outputs": [],
   "source": [
    "import pandas as pd\n",
    "df = pd.read_csv('datoss.tsv', sep='\\t')"
   ]
  },
  {
   "cell_type": "code",
   "execution_count": null,
   "metadata": {
    "collapsed": false
   },
   "outputs": [],
   "source": [
    "df [1:1]"
   ]
  },
  {
   "cell_type": "markdown",
   "metadata": {},
   "source": [
    "Qué Entidades (tablas) puede definir?"
   ]
  },
  {
   "cell_type": "markdown",
   "metadata": {
    "collapsed": true
   },
   "source": [
    "1. Journal\n",
    "2. Platform\n",
    "3. Study\n",
    "4. Publicacion\n",
    "5. Enfermedad\n",
    "6. Loci\n",
    "7. Enfermedad_Loci (Tabala intermedia)\n",
    "\n"
   ]
  },
  {
   "cell_type": "markdown",
   "metadata": {},
   "source": [
    "Cree la base de datos (copie el código SQL que se usó)"
   ]
  },
  {
   "cell_type": "code",
   "execution_count": 8,
   "metadata": {
    "collapsed": false
   },
   "outputs": [],
   "source": [
    "CREATE TABLE journal\n",
    "(\n",
    "id_JOURNAL int auto_increment PRIMARY KEY,\n",
    "namejournal varchar (300)\n",
    ");\n",
    "\n",
    "CREATE TABLE platform \n",
    "(\n",
    "id_platform INT auto_increment NOT NULL PRIMARY KEY,\n",
    "PLATFORMname VARCHAR(300)\n",
    ");\n",
    "\n",
    "CREATE TABLE study\n",
    "(\n",
    "id_STUDY int auto_increment PRIMARY KEY,\n",
    "STUDY text,\n",
    "INITIAL_SAMPLE_SIZE\tint,\n",
    "REPLICATION_SAMPLE_SIZE int,\n",
    "id_platform int,\n",
    "foreign key (id_platform) references platform(id_platform),\n",
    "P_VALUE int,\n",
    "PVALUE_MLOG int,\n",
    "PVALUE_TEXT varchar (300),\n",
    "CI_text varchar (300),\n",
    "OR_BETA int,\n",
    "MAPPED_TRAIT varchar (300),\n",
    "MAPPED_TRAIT_URI varchar (300)\n",
    ");\n",
    "\n",
    "CREATE TABLE publicacion\n",
    "(\n",
    "id_publicacion int auto_increment PRIMARY KEY,\n",
    "PUBMEDID varchar (300),\n",
    "FIRSTAUTHOR varchar (300),\n",
    "id_journal int,\n",
    "foreign key (id_JOURNAL) references journal(id_JOURNAL),\n",
    "LINK varchar (300),\n",
    "STUDY_ACCESSION varchar (300),\n",
    "id_STUDY int,\n",
    "foreign key (id_STUDY) references study(id_STUDY)\n",
    ");\n",
    "\n",
    "CREATE TABLE enfermedad \n",
    "(\n",
    "id_enfermedad int auto_increment PRIMARY KEY,\n",
    "DISEASETRAIT VARCHAR(300)\n",
    ");\n",
    "\n",
    "CREATE TABLE loci\n",
    "(\n",
    "id_loci int auto_increment PRIMARY KEY,\n",
    "REGION text,\n",
    "CHR_ID text,\n",
    "CHR_POS text,\n",
    "REPORTED_GENE text,\n",
    "MAPPED_GENE text,\n",
    "UPSTREAM_GENE_ID text,\n",
    "DOWNSTREAM_GENE_ID text,\n",
    "SNP_GENE_IDS text,\n",
    "UPSTREAM_GENE_DISTANCE\ttext,\n",
    "DOWNSTREAM_GENE_DISTANCE text,\n",
    "STRONGEST_SNP_RISK_ALLELE text,\n",
    "SNPS text,\n",
    "MERGED text,\n",
    "SNP_ID_CURRENT text,\n",
    "CONTEXT_ text,\n",
    "INTERGENIC text\n",
    ");\n",
    "\n",
    "\n",
    "CREATE TABLE enfermedad_loci\n",
    "(\n",
    "id_enfermedad int,\n",
    "id_loci int,\n",
    "PRIMARY KEY (id_enfermedad, id_loci),\n",
    "foreign key (id_enfermedad) references enfermedad(id_enfermedad),\n",
    "foreign key (id_loci) references loci(id_loci)\n",
    ");\n"
   ]
  },
  {
   "cell_type": "markdown",
   "metadata": {},
   "source": [
    "## Ejercicio 2\n",
    "\n",
    "Lea el archivo y guarde la infomación en la base de datos en las tablas que se definidieron en el __Ejercicio 1__."
   ]
  },
  {
   "cell_type": "code",
   "execution_count": null,
   "metadata": {
    "collapsed": false
   },
   "outputs": [],
   "source": [
    "#Leer el archivo\n",
    "df.head(1)"
   ]
  },
  {
   "cell_type": "code",
   "execution_count": 2,
   "metadata": {
    "collapsed": true
   },
   "outputs": [],
   "source": [
    "import mysql.connector\n",
    "cnx = mysql.connector.connect(user='root', password='fnsQFJ14',\n",
    "                              host='127.0.0.1', database='new_schema')"
   ]
  },
  {
   "cell_type": "code",
   "execution_count": null,
   "metadata": {
    "collapsed": false
   },
   "outputs": [],
   "source": [
    "hostname = '127.0.0.1'\n",
    "username = 'root'\n",
    "password = 'fnsQFJ14'\n",
    "database = 'new_schema'\n",
    "\n",
    "def doQuery( conn ) :\n",
    "    cur = conn.cursor()\n",
    "\n",
    "    cur.execute( \"select * from platform\" )\n",
    "\n",
    "    for id_nombre, nombre_plat in cur.fetchall() :\n",
    "        print (id_nombre, nombre_plat)\n",
    "\n",
    "myConnection = mysql.connector.connect( host=hostname, user=username, passwd=password, db=database )\n",
    "doQuery( myConnection )\n",
    "myConnection.close()"
   ]
  },
  {
   "cell_type": "code",
   "execution_count": 110,
   "metadata": {
    "collapsed": false
   },
   "outputs": [
    {
     "name": "stdout",
     "output_type": "stream",
     "text": [
      "\n"
     ]
    }
   ],
   "source": [
    "# Guardar informacion de plataforma\n",
    "def get_platformId(names_platf):\n",
    "    cur = myConnection.cursor()\n",
    "\n",
    "    cur.execute( \"\"\"select * from platform where PLATFORM_SNPS_PASSplatformING_QC = \"%s\" \"\"\" % (names_platf) )\n",
    "    \n",
    "    id_plat = None\n",
    "    for id_, nombre_plat in cur.fetchall() :\n",
    "        id_plat = id_\n",
    "        \n",
    "    if not id_plat:\n",
    "        print(\"\"\"insert into platform values (NULL, \"%s\" )\"\"\" % (names_platf))\n",
    "        cur.execute(\"\"\"insert into platform values (NULL, \"%s\" )\"\"\" % (names_platf))\n",
    "        cur.execute(\"SELECT LAST_INSERT_ID()\")\n",
    "        \n",
    "        id_plat = cur.fetchall()[0][0]\n",
    "        \n",
    "        myConnection.commit()\n",
    "        \n",
    "    return id_plat\n",
    "\n",
    "hostname = '127.0.0.1'\n",
    "username = 'root'\n",
    "password = 'fnsQFJ14'\n",
    "database = 'new_schema'\n",
    "\n",
    "myConnection = mysql.connector.connect( host=hostname, user=username, passwd=password, db=database )\n",
    "\n",
    "for index, row in df.iterrows():\n",
    "    plat_name = row['PLATFORM [SNPS PASSING QC]']\n",
    "    platform_id = get_platformId(plat_name)\n",
    "\n",
    "print()\n",
    "\n",
    "myConnection.close()"
   ]
  },
  {
   "cell_type": "code",
   "execution_count": 112,
   "metadata": {
    "collapsed": true
   },
   "outputs": [],
   "source": [
    "def get_journalId(names_journal):\n",
    "    cur = myConnection.cursor()\n",
    "\n",
    "    cur.execute( \"\"\"select * from journal where namejournal = \"%s\" \"\"\" % (names_journal) )\n",
    "    \n",
    "    id_jour = None\n",
    "    for id_, nombre_journ in cur.fetchall() :\n",
    "        id_jour = id_\n",
    "        \n",
    "    if not id_jour:\n",
    "        print(\"\"\"insert into journal values (NULL, \"%s\" )\"\"\" % (names_journal))\n",
    "        cur.execute(\"\"\"insert into journal values (NULL, \"%s\" )\"\"\" % (names_journal))\n",
    "        cur.execute(\"SELECT LAST_INSERT_ID()\")\n",
    "        \n",
    "        id_jour = cur.fetchall()[0][0]\n",
    "        \n",
    "        myConnection.commit()\n",
    "        \n",
    "    return id_jour\n",
    "\n",
    "hostname = '127.0.0.1'\n",
    "username = 'root'\n",
    "password = 'fnsQFJ14'\n",
    "database = 'new_schema'\n",
    "\n",
    "myConnection = mysql.connector.connect( host=hostname, user=username, passwd=password, db=database )\n",
    "\n",
    "for index, row in df.iterrows():\n",
    "    journal_name = row['JOURNAL']\n",
    "    journal_id = get_journalId(journal_name)\n",
    "\n",
    "print()\n",
    "\n",
    "myConnection.close()"
   ]
  },
  {
   "cell_type": "code",
   "execution_count": 23,
   "metadata": {
    "collapsed": false
   },
   "outputs": [
    {
     "name": "stdout",
     "output_type": "stream",
     "text": [
      "\n"
     ]
    }
   ],
   "source": [
    "# Guardar información de enferemdad\n",
    "\n",
    "def get_enfermedadlId(names_enferm, id_platform):\n",
    "    cur = myConnection.cursor()\n",
    "\n",
    "    cur.execute( \"\"\"select * from enfermedad where DISEASETRAIT = \"%s\" \"\"\" % (names_enferm) )\n",
    "    \n",
    "    id_enfer = None\n",
    "    for id_, id_platform in cur.fetchall() :\n",
    "        id_enfer = id_\n",
    "        \n",
    "    if not id_enfer:\n",
    "        print(\"\"\"insert into enfermedad values (NULL, \"%s\" )\"\"\" % (names_enferm))\n",
    "        cur.execute(\"\"\"insert into enfermedad values (NULL, \"%s\" )\"\"\" % (names_enferm))\n",
    "        cur.execute(\"SELECT LAST_INSERT_ID()\")\n",
    "        \n",
    "        id_enfer = cur.fetchall()[0][0]\n",
    "        \n",
    "        myConnection.commit()\n",
    "        \n",
    "    return id_enfer\n",
    "\n",
    "hostname = '127.0.0.1'\n",
    "username = 'root'\n",
    "password = 'fnsQFJ14'\n",
    "database = 'new_schema'\n",
    "\n",
    "myConnection = mysql.connector.connect( host=hostname, user=username, passwd=password, db=database )\n",
    "\n",
    "for index, row in df.iterrows():\n",
    "    enf_name = row['DISEASE/TRAIT']\n",
    "    enferm_id = get_enfermedadlId(enf_name)\n",
    "\n",
    "print()\n",
    "\n",
    "myConnection.close()\n"
   ]
  },
  {
   "cell_type": "code",
   "execution_count": 7,
   "metadata": {
    "collapsed": false
   },
   "outputs": [
    {
     "name": "stdout",
     "output_type": "stream",
     "text": [
      "1\n",
      "2\n"
     ]
    }
   ],
   "source": [
    "lista = [(1, 123, 4), (2, 7654, 21)]\n",
    "\n",
    "for id_, pos, chrm in lista:\n",
    "    print (id_)"
   ]
  },
  {
   "cell_type": "code",
   "execution_count": null,
   "metadata": {
    "collapsed": false
   },
   "outputs": [],
   "source": [
    "#Guardar información loci\n",
    "def get_lociId(regionloci, chro, chrpos, repor, mappede, geneups, genedows, snp, upstr, downs, riskalle, snps, merged,\n",
    "                      snpid, contexts, intergenic):\n",
    "    cur = myConnection.cursor()\n",
    "\n",
    "    cur.execute( \"\"\"select id_loci, CHR_ID, CHR_POS from loci where CHR_ID = \"%s\" and CHR_POS = \"%s\"  \n",
    "                \"\"\" %(chro, chrpos))\n",
    "    id_loci = None\n",
    "    for id_, chrm, pos  in cur.fetchall() :\n",
    "        print(id_)\n",
    "        id_loci = id_\n",
    "    \n",
    "    if not id_loci:\n",
    "        #print(\"\"\"insert into loci values (NULL, \"%s\", \"%s\", \"%s\", \"%s\", \"%s\",\"%s\", \"%s\", \"%s\", \"%s\", \"%s\", \"%s\",\"%s\", \n",
    "        #\"%s\", \"%s\", \"%s\", \"%s\")\"\"\" % (regionloci, chro, chrpos, repor, mappede, geneups, genedows, snp, upstr, downs, \n",
    "        #riskalle, snps, merged, snpid, contexts, intergenic))\n",
    "        cur.execute(\"\"\"insert into loci values (NULL, \"%s\", \"%s\", \"%s\", \"%s\", \"%s\",\"%s\", \"%s\", \"%s\", \"%s\", \"%s\", \"%s\",\"%s\", \n",
    "        \"%s\", \"%s\", \"%s\", \"%s\")\"\"\" % (regionloci, chro, chrpos, repor, mappede, geneups, genedows, snp, upstr, downs, \n",
    "        riskalle, snps, merged, snpid, contexts, intergenic))\n",
    "        cur.execute(\"SELECT LAST_INSERT_ID()\")\n",
    "        \n",
    "        id_loci = cur.fetchall()[0][0]\n",
    "        \n",
    "        myConnection.commit()\n",
    "        \n",
    "    return id_loci\n",
    "\n",
    "hostname = '127.0.0.1'\n",
    "username = 'root'\n",
    "password = 'fnsQFJ14'\n",
    "database = 'new_schema'\n",
    "\n",
    "myConnection = mysql.connector.connect( host=hostname, user=username, passwd=password, db=database )\n",
    "\n",
    "\n",
    "for index, row in df.iterrows():\n",
    "    #print(type(loci[0]), type(loci[1]), type(loci[2]), type(loci[3]), type(loci[4]), type(loci[5]), type(loci[6]), \n",
    "                #type(loci[7]),type(loci[8]), type(loci[9]), type(loci[10]), type(loci[11]), type(loci[12]),\n",
    "                #type(loci[13]), type(loci[14]),type(loci[15]))\n",
    "    loci = [row['REGION'], row['CHR_ID'], row['CHR_POS'],row['REPORTED GENE(S)'],row['MAPPED_GENE'],row['UPSTREAM_GENE_ID'], \n",
    "            row['DOWNSTREAM_GENE_ID'], row['SNP_GENE_IDS'],row['UPSTREAM_GENE_DISTANCE'],row['DOWNSTREAM_GENE_DISTANCE'],\n",
    "            row['STRONGEST SNP-RISK ALLELE'],row['SNPS'], row['MERGED'], row['SNP_ID_CURRENT'], row['CONTEXT'], \n",
    "            row['INTERGENIC']]\n",
    "    loci_id = get_lociId(loci[0], loci[1], loci[2], loci[3], loci[4], loci[5], loci[6], loci[7], loci[8], loci[9], loci[10],\n",
    "                         loci[11], loci[12], loci[13], loci[14], loci[15])\n",
    "    \n",
    "    \n",
    "print()\n",
    "\n",
    "myConnection.close()\n"
   ]
  },
  {
   "cell_type": "code",
   "execution_count": null,
   "metadata": {
    "collapsed": false
   },
   "outputs": [],
   "source": [
    "#Enfermedad_loci\n",
    "hostname = '127.0.0.1'\n",
    "username = 'root'\n",
    "password = 'fnsQFJ14'\n",
    "database = 'new_schema'\n",
    "\n",
    "myConnection = mysql.connector.connect( host=hostname, user=username, passwd=password, db=database )   \n",
    "\n",
    "cur = myConnection.cursor()\n",
    "for index, row in df.iterrows():\n",
    "    enfermedadAux = row['DISEASE/TRAIT']\n",
    "    \n",
    "    cur.execute(\"\"\"select id_enfermedad from enfermedad where DISEASETRAIT = \"%s\" \"\"\" % (enfermedadAux) )\n",
    "    idenferAux=cur.fetchall()\n",
    "    cur.execute(\"\"\"select id_loci from loci where CHR_ID = \"%s\" and CHR_POS = \"%s\" \"\"\" % (row.CHR_ID, row.CHR_POS))\n",
    "    idlociAux=cur.fetchall()\n",
    "    #print(idenferAux[0][0],idlociAux[0][0])\n",
    "    cur.execute(\"\"\"select * from enfermedad_loci where id_loci = \"%d\" and id_enfermedad = \"%d\" \"\"\" %(idlociAux[0][0], \n",
    "                                                                                                   idenferAux[0][0]))\n",
    "    idiguales = cur.fetchall()\n",
    "    #print(idiguales)\n",
    "    \n",
    "    if not idiguales:\n",
    "        cur.execute(\"\"\"insert into enfermedad_loci (id_enfermedad, id_loci) values (\"%d\", \"%d\")\"\"\" %(idenferAux[0][0], \n",
    "                          idlociAux[0][0]))\n",
    "        myConnection.commit()\n",
    "        \n",
    "myConnection.close()"
   ]
  },
  {
   "cell_type": "code",
   "execution_count": null,
   "metadata": {
    "collapsed": false
   },
   "outputs": [],
   "source": [
    "# Guardar informacion de estudio\n",
    "def get_studyId():\n",
    "    cur = myConnection.cursor(name_study, id_journal)\n",
    "\n",
    "    cur.execute( \"\"\"select STUDY from study where STUDY= \"%s\" \"\"\" % (name_study) )\n",
    "    cur.execute(\"\"\"select id_JOURNAL from journal where id_JOURNAL = \"%d\" \"\"\" % (row.id_journal))\n",
    "                                                                                 \n",
    "    id_study = None\n",
    "    for id_, studioname  in cur.fetchall() :\n",
    "        print(id_)\n",
    "        id_study = id_\n",
    "        \n",
    "    if not id_study:\n",
    "        #print(\"\"\"insert into study values (NULL, \"%s\", \"%s\", \"%d\", , \"%d\", \"%d\", \"%d\", \"%d\", \"%d\", \"%s\",\n",
    "        #\"%s\",\"%d\", \"%s\", \"%s\")\"\"\" % (names_study))\n",
    "        cur.execute(\"\"\"insert into study values (NULL, \"%s\", \"%s\", \"%d\", , \"%d\", \"%d\", \"%d\", \"%d\", \"%d\", \"%s\",\n",
    "        \"%s\",\"%d\", \"%s\", \"%s\")\"\"\" % (names_study))\n",
    "        cur.execute(\"SELECT LAST_INSERT_ID()\")\n",
    "        \n",
    "        id_study = cur.fetchall()[0][0]\n",
    "        \n",
    "        myConnection.commit()\n",
    "        \n",
    "        \n",
    "for index, row in df.iterrows():\n",
    "    enfermedadAux = row['DISEASE/TRAIT']\n",
    "    \n",
    "    cur.execute(\"\"\"select id_enfermedad from enfermedad where DISEASETRAIT = \"%s\" \"\"\" % (enfermedadAux) )\n",
    "    idenferAux=cur.fetchall()\n",
    "    cur.execute(\"\"\"select id_loci from loci where CHR_ID = \"%s\" and CHR_POS = \"%s\" \"\"\" % (row.CHR_ID, row.CHR_POS))\n",
    "    idlociAux=cur.fetchall()\n",
    "    #print(idenferAux[0][0],idlociAux[0][0])\n",
    "    cur.execute(\"\"\"select * from enfermedad_loci where id_loci = \"%d\" and id_enfermedad = \"%d\" \"\"\" %(idlociAux[0][0], \n",
    "                                                                                                   idenferAux[0][0]))\n",
    "    idiguales = cur.fetchall()\n",
    "    #print(idiguales)\n",
    "    \n",
    "    if not idiguales:\n",
    "        cur.execute(\"\"\"insert into enfermedad_loci (id_enfermedad, id_loci) values (\"%d\", \"%d\")\"\"\" %(idenferAux[0][0],\n",
    "                     idlociAux[0][0]))\n",
    "        myConnection.commit()\n",
    "        \n",
    "myConnection.close()\n",
    "\n",
    "\n",
    "\n",
    "    return id_study\n",
    "\n",
    "hostname = '127.0.0.1'\n",
    "username = 'root'\n",
    "password = 'fnsQFJ14'\n",
    "database = 'new_schema'\n",
    "\n",
    "myConnection = mysql.connector.connect( host=hostname, user=username, passwd=password, db=database )\n",
    "\n",
    "for index, row in df.iterrows():\n",
    "    study_name = [row['STUDY'], row['INITIAL SAMPLE SIZE'], row['REPLICATION SAMPLE SIZE'], row['id_journal'],\n",
    "                  row['P-VALUE'], row['PVALUE_MLOG'], row['P-VALUE (TEXT)'], row['95% CI (TEXT)'], row['OR or BETA'], \n",
    "                  row['MAPPED_TRAIT'], row['MAPPED_TRAIT_URI']]\n",
    "    study_name = get_studyId(study_name)\n",
    "    \n",
    "\n",
    "print()\n",
    "\n",
    "myConnection.close()"
   ]
  },
  {
   "cell_type": "markdown",
   "metadata": {},
   "source": [
    "## Ejercicio 3\n",
    "\n",
    "Realize de la base de datos una consulta que le responda una pregunta biológica\n",
    "(e.g. qué genes estan relacionados con cuales enfermedades)"
   ]
  },
  {
   "cell_type": "code",
   "execution_count": null,
   "metadata": {
    "collapsed": false
   },
   "outputs": [],
   "source": [
    "hostname = '127.0.0.1'\n",
    "username = 'root'\n",
    "password = 'fnsQFJ14'\n",
    "database = 'new_schema'\n",
    "\n",
    "def doQuery( conn ) :\n",
    "    cur = conn.cursor()\n",
    "\n",
    "myConnection = mysql.connector.connect( host=hostname, user=username, passwd=password, db=database )\n",
    "doQuery( myConnection )\n",
    "#myConnection.close()\n",
    "cur = myConnection.cursor()\n",
    "\n",
    "\n",
    "cur.execute(\"\"\"SELECT r.id_loci, r.REPORTED_GENE\n",
    "FROM loci r\n",
    "WHERE NOT EXISTS (SELECT * FROM enfermedad i\n",
    "                  WHERE DISEASETRAIT IN ('Breast cancer')\n",
    "                  AND NOT EXISTS\n",
    "                      (SELECT * FROM enfermedad_loci ri\n",
    "                       WHERE ri.id_loci = r.id_loci\n",
    "                       AND ri.id_enfermedad = i.id_enfermedad))\n",
    "\"\"\")\n",
    "enferme = cur.fetchall()\n",
    "print(enferme)"
   ]
  },
  {
   "cell_type": "markdown",
   "metadata": {},
   "source": [
    "## Ejercicio 4\n",
    "\n",
    "Guarde el resultado de la consulta anterior en un archivo csv"
   ]
  },
  {
   "cell_type": "code",
   "execution_count": null,
   "metadata": {
    "collapsed": false
   },
   "outputs": [],
   "source": [
    "import pandas as pd\n",
    "my_df = pd.DataFrame(enferme)\n",
    "my_df.to_csv('output.csv', index=False, header=False)"
   ]
  }
 ],
 "metadata": {
  "anaconda-cloud": {},
  "kernelspec": {
   "display_name": "Python 3",
   "language": "python",
   "name": "python3"
  },
  "language_info": {
   "codemirror_mode": {
    "name": "ipython",
    "version": 3
   },
   "file_extension": ".py",
   "mimetype": "text/x-python",
   "name": "python",
   "nbconvert_exporter": "python",
   "pygments_lexer": "ipython3",
   "version": "3.6.0"
  }
 },
 "nbformat": 4,
 "nbformat_minor": 1
}
