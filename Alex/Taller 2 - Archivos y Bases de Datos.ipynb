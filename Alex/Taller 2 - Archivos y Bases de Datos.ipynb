{
 "cells": [
  {
   "cell_type": "markdown",
   "metadata": {},
   "source": [
    "# Archivos y Bases de datos"
   ]
  },
  {
   "cell_type": "code",
   "execution_count": 1,
   "metadata": {
    "collapsed": true
   },
   "outputs": [],
   "source": [
    "import mysql.connector"
   ]
  },
  {
   "cell_type": "markdown",
   "metadata": {},
   "source": [
    "La idea de este taller es manipular archivos (leerlos, parsearlos y escribirlos) y hacer lo mismo con bases de datos estructuradas."
   ]
  },
  {
   "cell_type": "markdown",
   "metadata": {},
   "source": [
    "## Ejercicio 1\n",
    "\n",
    "Baje el archivo de \"All associations with added ontology annotations\" del GWAS Catalog.\n",
    "+ https://www.ebi.ac.uk/gwas/docs/file-downloads\n",
    "\n",
    "Describa las columnas del archivo (_que información estamos mirando? Para qué sirve? Por qué la hicieron?_)"
   ]
  },
  {
   "cell_type": "code",
   "execution_count": 2,
   "metadata": {
    "collapsed": false,
    "scrolled": false
   },
   "outputs": [
    {
     "name": "stderr",
     "output_type": "stream",
     "text": [
      "C:\\Users\\Alex\\Anaconda3\\lib\\site-packages\\IPython\\core\\interactiveshell.py:2717: DtypeWarning: Columns (12,23,27) have mixed types. Specify dtype option on import or set low_memory=False.\n",
      "  interactivity=interactivity, compiler=compiler, result=result)\n"
     ]
    },
    {
     "data": {
      "text/html": [
       "<div>\n",
       "<table border=\"1\" class=\"dataframe\">\n",
       "  <thead>\n",
       "    <tr style=\"text-align: right;\">\n",
       "      <th></th>\n",
       "      <th>DATE ADDED TO CATALOG</th>\n",
       "      <th>PUBMEDID</th>\n",
       "      <th>FIRST AUTHOR</th>\n",
       "      <th>DATE</th>\n",
       "      <th>JOURNAL</th>\n",
       "      <th>LINK</th>\n",
       "      <th>STUDY</th>\n",
       "      <th>DISEASE/TRAIT</th>\n",
       "      <th>INITIAL SAMPLE SIZE</th>\n",
       "      <th>REPLICATION SAMPLE SIZE</th>\n",
       "      <th>...</th>\n",
       "      <th>CONTEXT</th>\n",
       "      <th>INTERGENIC</th>\n",
       "      <th>RISK ALLELE FREQUENCY</th>\n",
       "      <th>P-VALUE</th>\n",
       "      <th>PVALUE_MLOG</th>\n",
       "      <th>P-VALUE (TEXT)</th>\n",
       "      <th>OR or BETA</th>\n",
       "      <th>95% CI (TEXT)</th>\n",
       "      <th>PLATFORM [SNPS PASSING QC]</th>\n",
       "      <th>CNV</th>\n",
       "    </tr>\n",
       "  </thead>\n",
       "  <tbody>\n",
       "    <tr>\n",
       "      <th>0</th>\n",
       "      <td>2009-09-28</td>\n",
       "      <td>18403759</td>\n",
       "      <td>Ober C</td>\n",
       "      <td>2008-04-09</td>\n",
       "      <td>N Engl J Med</td>\n",
       "      <td>www.ncbi.nlm.nih.gov/pubmed/18403759</td>\n",
       "      <td>Effect of variation in CHI3L1 on serum YKL-40 ...</td>\n",
       "      <td>YKL-40 levels</td>\n",
       "      <td>632 Hutterite individuals</td>\n",
       "      <td>443 European ancestry cases, 491 European ance...</td>\n",
       "      <td>...</td>\n",
       "      <td>upstream_gene_variant</td>\n",
       "      <td>0.0</td>\n",
       "      <td>0.29</td>\n",
       "      <td>1e-13</td>\n",
       "      <td>13.0</td>\n",
       "      <td>NaN</td>\n",
       "      <td>0.3</td>\n",
       "      <td>[NR] ng/ml decrease</td>\n",
       "      <td>Affymetrix [290325]</td>\n",
       "      <td>N</td>\n",
       "    </tr>\n",
       "  </tbody>\n",
       "</table>\n",
       "<p>1 rows × 34 columns</p>\n",
       "</div>"
      ],
      "text/plain": [
       "  DATE ADDED TO CATALOG  PUBMEDID FIRST AUTHOR        DATE       JOURNAL  \\\n",
       "0            2009-09-28  18403759       Ober C  2008-04-09  N Engl J Med   \n",
       "\n",
       "                                   LINK  \\\n",
       "0  www.ncbi.nlm.nih.gov/pubmed/18403759   \n",
       "\n",
       "                                               STUDY  DISEASE/TRAIT  \\\n",
       "0  Effect of variation in CHI3L1 on serum YKL-40 ...  YKL-40 levels   \n",
       "\n",
       "         INITIAL SAMPLE SIZE  \\\n",
       "0  632 Hutterite individuals   \n",
       "\n",
       "                             REPLICATION SAMPLE SIZE ...   \\\n",
       "0  443 European ancestry cases, 491 European ance... ...    \n",
       "\n",
       "                 CONTEXT INTERGENIC RISK ALLELE FREQUENCY P-VALUE PVALUE_MLOG  \\\n",
       "0  upstream_gene_variant        0.0                  0.29   1e-13        13.0   \n",
       "\n",
       "   P-VALUE (TEXT)  OR or BETA        95% CI (TEXT)  \\\n",
       "0             NaN         0.3  [NR] ng/ml decrease   \n",
       "\n",
       "   PLATFORM [SNPS PASSING QC]  CNV  \n",
       "0         Affymetrix [290325]    N  \n",
       "\n",
       "[1 rows x 34 columns]"
      ]
     },
     "execution_count": 2,
     "metadata": {},
     "output_type": "execute_result"
    }
   ],
   "source": [
    "import pandas as pd\n",
    "df= pd.read_csv('C:/Users/Alex/Documents/eafit/semestres/X semestre/programacion/taller2.tsv', sep = '\\t')\n",
    "df[:1]\n"
   ]
  },
  {
   "cell_type": "markdown",
   "metadata": {},
   "source": [
    "Qué Entidades (tablas) puede definir?"
   ]
  },
  {
   "cell_type": "markdown",
   "metadata": {
    "collapsed": true
   },
   "source": [
    "1. Enfermedad \n",
    "2. Plataforma (tecnologia de secuenciacion)\n",
    "3. Loci\n",
    "4. Enfermedad-loci\n",
    "5. Journal \n",
    "6. Estudio\n",
    "7. Publicacion "
   ]
  },
  {
   "cell_type": "markdown",
   "metadata": {},
   "source": [
    "Cree la base de datos (copie el código SQL que se usó)"
   ]
  },
  {
   "cell_type": "code",
   "execution_count": 5,
   "metadata": {
    "collapsed": false
   },
   "outputs": [
    {
     "ename": "SyntaxError",
     "evalue": "invalid syntax (<ipython-input-5-d1b77f55e9ba>, line 1)",
     "output_type": "error",
     "traceback": [
      "\u001b[0;36m  File \u001b[0;32m\"<ipython-input-5-d1b77f55e9ba>\"\u001b[0;36m, line \u001b[0;32m1\u001b[0m\n\u001b[0;31m    CREATE TABLE enfermedad\u001b[0m\n\u001b[0m               ^\u001b[0m\n\u001b[0;31mSyntaxError\u001b[0m\u001b[0;31m:\u001b[0m invalid syntax\n"
     ]
    }
   ],
   "source": [
    "CREATE TABLE enfermedad\n",
    "(\n",
    "id_enfermedad int PRIMARY KEY,\n",
    "nombre varchar(255)\n",
    ");\n",
    "\n",
    "create table plataforma\n",
    "(\n",
    "id_plataforma int primary key, \n",
    "nombre varchar(255)\n",
    ");\n",
    "\n",
    "CREATE TABLE loci\n",
    "(\n",
    "id_loci int NOT NULL PRIMARY KEY,\n",
    "region varchar(255),\n",
    "chrom varchar(255), \n",
    "pos int,\n",
    "genes_reportados int,\n",
    "gen_mapped varchar(255),\n",
    "gen_upstream int,\n",
    "gen_downstream int,\n",
    "SNP_GENE_IDS int,\n",
    "UPSTREAM_GENE_DISTANCE int,\n",
    "DOWNSTREAM_GENE_DISTANCE int,\n",
    "STRONGEST_SP_RISK varchar(255),\n",
    "SNPS varchar(255),\n",
    "MERGED int,\n",
    "SNP_ID_CURRENT varchar(255),\n",
    "CONTEXTO varchar(255),\n",
    "risk_allele varchar(255),\n",
    "PVAl int,\n",
    "PVALUE_MLOG int,\n",
    "PVALUE_txt varchar(255),\n",
    "BETA int,  \n",
    "novCI varchar(255),\n",
    "id_plataforma int,\n",
    "foreign key (id_plataforma) references plataforma(id_plataforma)\n",
    ");\n",
    "\n",
    "CREATE TABLE enfermedad_loci\n",
    "(\n",
    "id_enfermedad int,\n",
    "id_loci int,\n",
    "PRIMARY KEY (id_enfermedad, id_loci),\n",
    "foreign key (id_enfermedad) references enfermedad(id_enfermedad),\n",
    "foreign key (id_loci) references loci(id_loci)\n",
    ");\n",
    "\n",
    "CREATE TABLE journal\n",
    "(\n",
    "id_journal int primary key,\n",
    "nombre varchar(255)\n",
    ");\n",
    "\n",
    "create table publicacion\n",
    "(\n",
    "id_publicacion int,\n",
    "id_pubmed int,\n",
    "autor varchar (255),\n",
    "fecha_pub varchar (20),\n",
    "link varchar (255),\n",
    "id_journal int,\n",
    "id_estudio int,\n",
    "foreign key (id_journal) references journal(id_journal),\n",
    "foreign key (id_estudio) references estudio(id_estudio)\n",
    ");\n",
    "\n",
    "CREATE TABLE estudio\n",
    "(\n",
    "nombre varchar(255),\n",
    "id_estudio int primary key,\n",
    "id_enfermedad int,\n",
    "id_publicacion int,\n",
    "foreign key (id_publicacion) references publicacion(id_publicacion),\n",
    "foreign key (id_enfermedad) references enfermedad(id_enfermedad),\n",
    "tamano_muestra int,\n",
    "replicas int\n",
    ");"
   ]
  },
  {
   "cell_type": "markdown",
   "metadata": {},
   "source": [
    "## Ejercicio 2\n",
    "\n",
    "Lea el archivo y guarde la infomación en la base de datos en las tablas que se definidieron en el __Ejercicio 1__."
   ]
  },
  {
   "cell_type": "code",
   "execution_count": 6,
   "metadata": {
    "collapsed": false
   },
   "outputs": [
    {
     "data": {
      "text/html": [
       "<div>\n",
       "<table border=\"1\" class=\"dataframe\">\n",
       "  <thead>\n",
       "    <tr style=\"text-align: right;\">\n",
       "      <th></th>\n",
       "      <th>DATE ADDED TO CATALOG</th>\n",
       "      <th>PUBMEDID</th>\n",
       "      <th>FIRST AUTHOR</th>\n",
       "      <th>DATE</th>\n",
       "      <th>JOURNAL</th>\n",
       "      <th>LINK</th>\n",
       "      <th>STUDY</th>\n",
       "      <th>DISEASE/TRAIT</th>\n",
       "      <th>INITIAL SAMPLE SIZE</th>\n",
       "      <th>REPLICATION SAMPLE SIZE</th>\n",
       "      <th>...</th>\n",
       "      <th>CONTEXT</th>\n",
       "      <th>INTERGENIC</th>\n",
       "      <th>RISK ALLELE FREQUENCY</th>\n",
       "      <th>P-VALUE</th>\n",
       "      <th>PVALUE_MLOG</th>\n",
       "      <th>P-VALUE (TEXT)</th>\n",
       "      <th>OR or BETA</th>\n",
       "      <th>95% CI (TEXT)</th>\n",
       "      <th>PLATFORM [SNPS PASSING QC]</th>\n",
       "      <th>CNV</th>\n",
       "    </tr>\n",
       "  </thead>\n",
       "  <tbody>\n",
       "    <tr>\n",
       "      <th>0</th>\n",
       "      <td>2009-09-28</td>\n",
       "      <td>18403759</td>\n",
       "      <td>Ober C</td>\n",
       "      <td>2008-04-09</td>\n",
       "      <td>N Engl J Med</td>\n",
       "      <td>www.ncbi.nlm.nih.gov/pubmed/18403759</td>\n",
       "      <td>Effect of variation in CHI3L1 on serum YKL-40 ...</td>\n",
       "      <td>YKL-40 levels</td>\n",
       "      <td>632 Hutterite individuals</td>\n",
       "      <td>443 European ancestry cases, 491 European ance...</td>\n",
       "      <td>...</td>\n",
       "      <td>upstream_gene_variant</td>\n",
       "      <td>0.0</td>\n",
       "      <td>0.29</td>\n",
       "      <td>1e-13</td>\n",
       "      <td>13.0</td>\n",
       "      <td>NaN</td>\n",
       "      <td>0.3</td>\n",
       "      <td>[NR] ng/ml decrease</td>\n",
       "      <td>Affymetrix [290325]</td>\n",
       "      <td>N</td>\n",
       "    </tr>\n",
       "  </tbody>\n",
       "</table>\n",
       "<p>1 rows × 34 columns</p>\n",
       "</div>"
      ],
      "text/plain": [
       "  DATE ADDED TO CATALOG  PUBMEDID FIRST AUTHOR        DATE       JOURNAL  \\\n",
       "0            2009-09-28  18403759       Ober C  2008-04-09  N Engl J Med   \n",
       "\n",
       "                                   LINK  \\\n",
       "0  www.ncbi.nlm.nih.gov/pubmed/18403759   \n",
       "\n",
       "                                               STUDY  DISEASE/TRAIT  \\\n",
       "0  Effect of variation in CHI3L1 on serum YKL-40 ...  YKL-40 levels   \n",
       "\n",
       "         INITIAL SAMPLE SIZE  \\\n",
       "0  632 Hutterite individuals   \n",
       "\n",
       "                             REPLICATION SAMPLE SIZE ...   \\\n",
       "0  443 European ancestry cases, 491 European ance... ...    \n",
       "\n",
       "                 CONTEXT INTERGENIC RISK ALLELE FREQUENCY P-VALUE PVALUE_MLOG  \\\n",
       "0  upstream_gene_variant        0.0                  0.29   1e-13        13.0   \n",
       "\n",
       "   P-VALUE (TEXT)  OR or BETA        95% CI (TEXT)  \\\n",
       "0             NaN         0.3  [NR] ng/ml decrease   \n",
       "\n",
       "   PLATFORM [SNPS PASSING QC]  CNV  \n",
       "0         Affymetrix [290325]    N  \n",
       "\n",
       "[1 rows x 34 columns]"
      ]
     },
     "execution_count": 6,
     "metadata": {},
     "output_type": "execute_result"
    }
   ],
   "source": [
    "df.head(1)"
   ]
  },
  {
   "cell_type": "code",
   "execution_count": 3,
   "metadata": {
    "collapsed": false
   },
   "outputs": [
    {
     "name": "stdout",
     "output_type": "stream",
     "text": [
      "1 YKL-40 levels\n",
      "2 Psoriasis\n",
      "3 Lung cancer\n"
     ]
    }
   ],
   "source": [
    "hostname = '127.0.0.1'\n",
    "username = 'alexacl95'\n",
    "password = 'SUSAna05'\n",
    "database = 'programacion'\n",
    "\n",
    "def doQuery( conn ) :\n",
    "    cur = conn.cursor()\n",
    "\n",
    "    cur.execute( \"select * from enfermedad\" )\n",
    "\n",
    "    for id_nombre, nombre_enf in cur.fetchall() :\n",
    "        print (id_nombre, nombre_enf)\n",
    "\n",
    "myConnection = mysql.connector.connect( host=hostname, user=username, passwd=password, db=database )\n",
    "doQuery( myConnection )\n",
    "myConnection.close()"
   ]
  },
  {
   "cell_type": "code",
   "execution_count": 7,
   "metadata": {
    "collapsed": true
   },
   "outputs": [],
   "source": [
    "def get_diseaseId(disease_name):\n",
    "    cur = myConnection.cursor()\n",
    "\n",
    "    cur.execute( \"\"\"select * from enfermedad where nombre = \"%s\" \"\"\" % (disease_name) )\n",
    "    \n",
    "    id_enf = None\n",
    "    for id_, nombre_enf in cur.fetchall() :\n",
    "        id_enf = id_\n",
    "        \n",
    "    if not id_enf:\n",
    "        cur.execute(\"\"\"insert into enfermedad values (NULL, \"%s\" )\"\"\" % (disease_name))\n",
    "        cur.execute(\"SELECT LAST_INSERT_ID()\")\n",
    "        \n",
    "        \n",
    "        \n",
    "        id_enf = cur.fetchall()[0][0]\n",
    "        \n",
    "        myConnection.commit()\n",
    "        \n",
    "    return id_enf"
   ]
  },
  {
   "cell_type": "code",
   "execution_count": 47,
   "metadata": {
    "collapsed": false
   },
   "outputs": [
    {
     "ename": "OperationalError",
     "evalue": "MySQL Connection not available.",
     "output_type": "error",
     "traceback": [
      "\u001b[0;31m---------------------------------------------------------------------------\u001b[0m",
      "\u001b[0;31mOperationalError\u001b[0m                          Traceback (most recent call last)",
      "\u001b[0;32m<ipython-input-47-7fa23b42eb96>\u001b[0m in \u001b[0;36m<module>\u001b[0;34m()\u001b[0m\n\u001b[1;32m     22\u001b[0m \u001b[1;32mfor\u001b[0m \u001b[0mindex\u001b[0m\u001b[1;33m,\u001b[0m \u001b[0mrow\u001b[0m \u001b[1;32min\u001b[0m \u001b[0mdf\u001b[0m\u001b[1;33m.\u001b[0m\u001b[0miterrows\u001b[0m\u001b[1;33m(\u001b[0m\u001b[1;33m)\u001b[0m\u001b[1;33m:\u001b[0m\u001b[1;33m\u001b[0m\u001b[0m\n\u001b[1;32m     23\u001b[0m     \u001b[0mplat_name\u001b[0m \u001b[1;33m=\u001b[0m \u001b[0mrow\u001b[0m\u001b[1;33m[\u001b[0m\u001b[1;34m'PLATFORM [SNPS PASSING QC]'\u001b[0m\u001b[1;33m]\u001b[0m\u001b[1;33m\u001b[0m\u001b[0m\n\u001b[0;32m---> 24\u001b[0;31m     \u001b[0mplat_id\u001b[0m \u001b[1;33m=\u001b[0m \u001b[0mget_platId\u001b[0m\u001b[1;33m(\u001b[0m\u001b[0mplat_name\u001b[0m\u001b[1;33m)\u001b[0m\u001b[1;33m\u001b[0m\u001b[0m\n\u001b[0m",
      "\u001b[0;32m<ipython-input-47-7fa23b42eb96>\u001b[0m in \u001b[0;36mget_platId\u001b[0;34m(plat_name)\u001b[0m\n\u001b[1;32m      1\u001b[0m \u001b[1;32mdef\u001b[0m \u001b[0mget_platId\u001b[0m\u001b[1;33m(\u001b[0m\u001b[0mplat_name\u001b[0m\u001b[1;33m)\u001b[0m\u001b[1;33m:\u001b[0m\u001b[1;33m\u001b[0m\u001b[0m\n\u001b[0;32m----> 2\u001b[0;31m     \u001b[0mcur\u001b[0m \u001b[1;33m=\u001b[0m \u001b[0mmyConnection\u001b[0m\u001b[1;33m.\u001b[0m\u001b[0mcursor\u001b[0m\u001b[1;33m(\u001b[0m\u001b[1;33m)\u001b[0m\u001b[1;33m\u001b[0m\u001b[0m\n\u001b[0m\u001b[1;32m      3\u001b[0m \u001b[1;33m\u001b[0m\u001b[0m\n\u001b[1;32m      4\u001b[0m     \u001b[0mcur\u001b[0m\u001b[1;33m.\u001b[0m\u001b[0mexecute\u001b[0m\u001b[1;33m(\u001b[0m \u001b[1;34m\"\"\"select * from plataforma where nombre = \"%s\" \"\"\"\u001b[0m \u001b[1;33m%\u001b[0m \u001b[1;33m(\u001b[0m\u001b[0mplat_name\u001b[0m\u001b[1;33m)\u001b[0m \u001b[1;33m)\u001b[0m\u001b[1;33m\u001b[0m\u001b[0m\n\u001b[1;32m      5\u001b[0m \u001b[1;33m\u001b[0m\u001b[0m\n",
      "\u001b[0;32mC:\\Users\\Alex\\Anaconda3\\lib\\site-packages\\mysql\\connector\\connection.py\u001b[0m in \u001b[0;36mcursor\u001b[0;34m(self, buffered, raw, prepared, cursor_class, dictionary, named_tuple)\u001b[0m\n\u001b[1;32m   1381\u001b[0m             \u001b[1;32mraise\u001b[0m \u001b[0merrors\u001b[0m\u001b[1;33m.\u001b[0m\u001b[0mInternalError\u001b[0m\u001b[1;33m(\u001b[0m\u001b[1;34m\"Unread result found.\"\u001b[0m\u001b[1;33m)\u001b[0m\u001b[1;33m\u001b[0m\u001b[0m\n\u001b[1;32m   1382\u001b[0m         \u001b[1;32mif\u001b[0m \u001b[1;32mnot\u001b[0m \u001b[0mself\u001b[0m\u001b[1;33m.\u001b[0m\u001b[0mis_connected\u001b[0m\u001b[1;33m(\u001b[0m\u001b[1;33m)\u001b[0m\u001b[1;33m:\u001b[0m\u001b[1;33m\u001b[0m\u001b[0m\n\u001b[0;32m-> 1383\u001b[0;31m             \u001b[1;32mraise\u001b[0m \u001b[0merrors\u001b[0m\u001b[1;33m.\u001b[0m\u001b[0mOperationalError\u001b[0m\u001b[1;33m(\u001b[0m\u001b[1;34m\"MySQL Connection not available.\"\u001b[0m\u001b[1;33m)\u001b[0m\u001b[1;33m\u001b[0m\u001b[0m\n\u001b[0m\u001b[1;32m   1384\u001b[0m         \u001b[1;32mif\u001b[0m \u001b[0mcursor_class\u001b[0m \u001b[1;32mis\u001b[0m \u001b[1;32mnot\u001b[0m \u001b[1;32mNone\u001b[0m\u001b[1;33m:\u001b[0m\u001b[1;33m\u001b[0m\u001b[0m\n\u001b[1;32m   1385\u001b[0m             \u001b[1;32mif\u001b[0m \u001b[1;32mnot\u001b[0m \u001b[0missubclass\u001b[0m\u001b[1;33m(\u001b[0m\u001b[0mcursor_class\u001b[0m\u001b[1;33m,\u001b[0m \u001b[0mCursorBase\u001b[0m\u001b[1;33m)\u001b[0m\u001b[1;33m:\u001b[0m\u001b[1;33m\u001b[0m\u001b[0m\n",
      "\u001b[0;31mOperationalError\u001b[0m: MySQL Connection not available."
     ]
    }
   ],
   "source": [
    "def get_platId(plat_name):\n",
    "    cur = myConnection.cursor()\n",
    "\n",
    "    cur.execute( \"\"\"select * from plataforma where nombre = \"%s\" \"\"\" % (plat_name) )\n",
    "    \n",
    "    id_plat = None\n",
    "    for id_, nombre_plat in cur.fetchall() :\n",
    "        id_plat = id_\n",
    "        \n",
    "    if not id_plat:\n",
    "        print(\"\"\"insert into plataforma values (NULL, \"%s\" )\"\"\" % (plat_name))\n",
    "        cur.execute(\"\"\"insert into plataforma values (NULL, \"%s\" )\"\"\" % (plat_name))\n",
    "        cur.execute(\"SELECT LAST_INSERT_ID()\")\n",
    "        \n",
    "                \n",
    "        id_plat = cur.fetchall()[0][0]\n",
    "        \n",
    "        myConnection.commit()\n",
    "        \n",
    "    return id_plat\n",
    "\n",
    "for index, row in df.iterrows():\n",
    "    plat_name = row['PLATFORM [SNPS PASSING QC]']\n",
    "    plat_id = get_platId(plat_name)"
   ]
  },
  {
   "cell_type": "code",
   "execution_count": 8,
   "metadata": {
    "collapsed": true
   },
   "outputs": [],
   "source": [
    "def get_lociId(loci_name):\n",
    "    cur = myConnection.cursor()\n",
    "\n",
    "    cur.execute( \"\"\"select * from loci where nombre = \"%s\" \"\"\" % (disease_name) )\n",
    "    \n",
    "    id_loci = None\n",
    "    for id_, nombre_enf in cur.fetchall() :\n",
    "        id_loci = id_\n",
    "        \n",
    "    if not id_loci:\n",
    "        print(\"\"\"insert into enfermedad values (NULL, \"%s\", )\"\"\" % (disease_name))\n",
    "        cur.execute(\"\"\"insert into enfermedad values (NULL, \"%s\" )\"\"\" % (disease_name))\n",
    "        cur.execute(\"SELECT LAST_INSERT_ID()\")\n",
    "        \n",
    "        \n",
    "        \n",
    "        id_enf = cur.fetchall()[0][0]\n",
    "        \n",
    "        myConnection.commit()\n",
    "        \n",
    "    return id_enf"
   ]
  },
  {
   "cell_type": "code",
   "execution_count": 9,
   "metadata": {
    "collapsed": false
   },
   "outputs": [
    {
     "name": "stdout",
     "output_type": "stream",
     "text": [
      "\n"
     ]
    }
   ],
   "source": [
    "hostname = '127.0.0.1'\n",
    "username = 'alexacl95'\n",
    "password = 'SUSAna05'\n",
    "database = 'programacion'\n",
    "\n",
    "myConnection = mysql.connector.connect( host=hostname, user=username, passwd=password, db=database )\n",
    "\n",
    "for index, row in df.iterrows():\n",
    "    dis_name = row['DISEASE/TRAIT']\n",
    "    dissease_id = get_diseaseId(dis_name)\n",
    "\n",
    "\n",
    "print()\n",
    "\n",
    "myConnection.close()"
   ]
  },
  {
   "cell_type": "markdown",
   "metadata": {},
   "source": [
    "## Ejercicio 3\n",
    "\n",
    "Realize de la base de datos una consulta que le responda una pregunta biológica\n",
    "(e.g. qué genes estan relacionados con cuales enfermedades)"
   ]
  },
  {
   "cell_type": "code",
   "execution_count": null,
   "metadata": {
    "collapsed": true
   },
   "outputs": [],
   "source": [
    "http://pandas.pydata.org/pandas-docs/stable/generated/pandas.read_sql_query.html"
   ]
  },
  {
   "cell_type": "markdown",
   "metadata": {},
   "source": [
    "## Ejercicio 4\n",
    "\n",
    "Guarde el resultado de la consulta anterior en un archivo csv"
   ]
  },
  {
   "cell_type": "code",
   "execution_count": null,
   "metadata": {
    "collapsed": true
   },
   "outputs": [],
   "source": []
  }
 ],
 "metadata": {
  "anaconda-cloud": {},
  "kernelspec": {
   "display_name": "Python 3",
   "language": "python",
   "name": "python3"
  },
  "language_info": {
   "codemirror_mode": {
    "name": "ipython",
    "version": 3
   },
   "file_extension": ".py",
   "mimetype": "text/x-python",
   "name": "python",
   "nbconvert_exporter": "python",
   "pygments_lexer": "ipython3",
   "version": "3.6.0"
  }
 },
 "nbformat": 4,
 "nbformat_minor": 1
}
