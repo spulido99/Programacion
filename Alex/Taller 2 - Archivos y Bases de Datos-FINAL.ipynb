{
 "cells": [
  {
   "cell_type": "markdown",
   "metadata": {},
   "source": [
    "# Archivos y Bases de datos"
   ]
  },
  {
   "cell_type": "code",
   "execution_count": 1,
   "metadata": {
    "collapsed": true
   },
   "outputs": [],
   "source": [
    "import mysql.connector"
   ]
  },
  {
   "cell_type": "markdown",
   "metadata": {},
   "source": [
    "La idea de este taller es manipular archivos (leerlos, parsearlos y escribirlos) y hacer lo mismo con bases de datos estructuradas."
   ]
  },
  {
   "cell_type": "markdown",
   "metadata": {},
   "source": [
    "## Ejercicio 1\n",
    "\n",
    "Baje el archivo de \"All associations with added ontology annotations\" del GWAS Catalog.\n",
    "+ https://www.ebi.ac.uk/gwas/docs/file-downloads\n",
    "\n",
    "Describa las columnas del archivo (_que información estamos mirando? Para qué sirve? Por qué la hicieron?_)"
   ]
  },
  {
   "cell_type": "code",
   "execution_count": 2,
   "metadata": {
    "collapsed": false,
    "scrolled": false
   },
   "outputs": [
    {
     "name": "stderr",
     "output_type": "stream",
     "text": [
      "C:\\Users\\Alex\\Anaconda3\\lib\\site-packages\\IPython\\core\\interactiveshell.py:2717: DtypeWarning: Columns (12,23,27) have mixed types. Specify dtype option on import or set low_memory=False.\n",
      "  interactivity=interactivity, compiler=compiler, result=result)\n"
     ]
    },
    {
     "data": {
      "text/html": [
       "<div>\n",
       "<table border=\"1\" class=\"dataframe\">\n",
       "  <thead>\n",
       "    <tr style=\"text-align: right;\">\n",
       "      <th></th>\n",
       "      <th>DATE ADDED TO CATALOG</th>\n",
       "      <th>PUBMEDID</th>\n",
       "      <th>FIRST AUTHOR</th>\n",
       "      <th>DATE</th>\n",
       "      <th>JOURNAL</th>\n",
       "      <th>LINK</th>\n",
       "      <th>STUDY</th>\n",
       "      <th>DISEASE/TRAIT</th>\n",
       "      <th>INITIAL SAMPLE SIZE</th>\n",
       "      <th>REPLICATION SAMPLE SIZE</th>\n",
       "      <th>...</th>\n",
       "      <th>CONTEXT</th>\n",
       "      <th>INTERGENIC</th>\n",
       "      <th>RISK ALLELE FREQUENCY</th>\n",
       "      <th>P-VALUE</th>\n",
       "      <th>PVALUE_MLOG</th>\n",
       "      <th>P-VALUE (TEXT)</th>\n",
       "      <th>OR or BETA</th>\n",
       "      <th>95% CI (TEXT)</th>\n",
       "      <th>PLATFORM [SNPS PASSING QC]</th>\n",
       "      <th>CNV</th>\n",
       "    </tr>\n",
       "  </thead>\n",
       "  <tbody>\n",
       "    <tr>\n",
       "      <th>0</th>\n",
       "      <td>2009-09-28</td>\n",
       "      <td>18403759</td>\n",
       "      <td>Ober C</td>\n",
       "      <td>2008-04-09</td>\n",
       "      <td>N Engl J Med</td>\n",
       "      <td>www.ncbi.nlm.nih.gov/pubmed/18403759</td>\n",
       "      <td>Effect of variation in CHI3L1 on serum YKL-40 ...</td>\n",
       "      <td>YKL-40 levels</td>\n",
       "      <td>632 Hutterite individuals</td>\n",
       "      <td>443 European ancestry cases, 491 European ance...</td>\n",
       "      <td>...</td>\n",
       "      <td>upstream_gene_variant</td>\n",
       "      <td>0.0</td>\n",
       "      <td>0.29</td>\n",
       "      <td>1e-13</td>\n",
       "      <td>13.0</td>\n",
       "      <td>NaN</td>\n",
       "      <td>0.3</td>\n",
       "      <td>[NR] ng/ml decrease</td>\n",
       "      <td>Affymetrix [290325]</td>\n",
       "      <td>N</td>\n",
       "    </tr>\n",
       "  </tbody>\n",
       "</table>\n",
       "<p>1 rows × 34 columns</p>\n",
       "</div>"
      ],
      "text/plain": [
       "  DATE ADDED TO CATALOG  PUBMEDID FIRST AUTHOR        DATE       JOURNAL  \\\n",
       "0            2009-09-28  18403759       Ober C  2008-04-09  N Engl J Med   \n",
       "\n",
       "                                   LINK  \\\n",
       "0  www.ncbi.nlm.nih.gov/pubmed/18403759   \n",
       "\n",
       "                                               STUDY  DISEASE/TRAIT  \\\n",
       "0  Effect of variation in CHI3L1 on serum YKL-40 ...  YKL-40 levels   \n",
       "\n",
       "         INITIAL SAMPLE SIZE  \\\n",
       "0  632 Hutterite individuals   \n",
       "\n",
       "                             REPLICATION SAMPLE SIZE ...   \\\n",
       "0  443 European ancestry cases, 491 European ance... ...    \n",
       "\n",
       "                 CONTEXT INTERGENIC RISK ALLELE FREQUENCY P-VALUE PVALUE_MLOG  \\\n",
       "0  upstream_gene_variant        0.0                  0.29   1e-13        13.0   \n",
       "\n",
       "   P-VALUE (TEXT)  OR or BETA        95% CI (TEXT)  \\\n",
       "0             NaN         0.3  [NR] ng/ml decrease   \n",
       "\n",
       "   PLATFORM [SNPS PASSING QC]  CNV  \n",
       "0         Affymetrix [290325]    N  \n",
       "\n",
       "[1 rows x 34 columns]"
      ]
     },
     "execution_count": 2,
     "metadata": {},
     "output_type": "execute_result"
    }
   ],
   "source": [
    "import pandas as pd\n",
    "df= pd.read_csv('C:/Users/Alex/Documents/eafit/semestres/X semestre/programacion/taller2.tsv', sep = '\\t')\n",
    "df[:1]\n"
   ]
  },
  {
   "cell_type": "markdown",
   "metadata": {},
   "source": [
    "Qué Entidades (tablas) puede definir?"
   ]
  },
  {
   "cell_type": "markdown",
   "metadata": {
    "collapsed": true
   },
   "source": [
    "1. Enfermedad \n",
    "2. Plataforma (tecnologia de secuenciacion)\n",
    "3. Loci\n",
    "4. Enfermedad-loci\n",
    "5. Journal \n",
    "6. Estudio\n",
    "7. Publicacion "
   ]
  },
  {
   "cell_type": "markdown",
   "metadata": {},
   "source": [
    "Cree la base de datos (copie el código SQL que se usó)"
   ]
  },
  {
   "cell_type": "code",
   "execution_count": 5,
   "metadata": {
    "collapsed": false
   },
   "outputs": [
    {
     "ename": "SyntaxError",
     "evalue": "invalid syntax (<ipython-input-5-3975823bd552>, line 1)",
     "output_type": "error",
     "traceback": [
      "\u001b[0;36m  File \u001b[0;32m\"<ipython-input-5-3975823bd552>\"\u001b[0;36m, line \u001b[0;32m1\u001b[0m\n\u001b[0;31m    CREATE TABLE enfermedad\u001b[0m\n\u001b[0m               ^\u001b[0m\n\u001b[0;31mSyntaxError\u001b[0m\u001b[0;31m:\u001b[0m invalid syntax\n"
     ]
    }
   ],
   "source": [
    "CREATE TABLE enfermedad\n",
    "(\n",
    "id_enfermedad int AUTO_INCREMENT PRIMARY KEY,\n",
    "nombre varchar(255)\n",
    ");\n",
    "\n",
    "create table plataforma\n",
    "(\n",
    "id_plataforma int AUTO_INCREMENT primary key, \n",
    "nombre varchar(255)\n",
    ");\n",
    "\n",
    "CREATE TABLE loci\n",
    "(\n",
    "id_loci int AUTO_INCREMENT PRIMARY KEY,\n",
    "id_plataforma int,\n",
    "foreign key (id_plataforma) references plataforma(id_plataforma),\n",
    "region varchar(255),\n",
    "chrom varchar(255), \n",
    "pos varchar(255),\n",
    "genes_reportados varchar(255),\n",
    "gen_mapped varchar(255),\n",
    "gen_upstream varchar(255),\n",
    "gen_downstream varchar(255),\n",
    "SNP_GENE_IDS varchar(255),\n",
    "UPSTREAM_GENE_DISTANCE varchar(255),\n",
    "DOWNSTREAM_GENE_DISTANCE varchar(255),\n",
    "STRONGEST_SP_RISK varchar(255),\n",
    "SNPS varchar(255),\n",
    "MERGED varchar(255),\n",
    "SNP_ID_CURRENT varchar(255),\n",
    "CONTEXTO varchar(500),\n",
    "risk_allele varchar(255)\n",
    "#PVAl int,\n",
    "#PVALUE_MLOG int,\n",
    "#PVALUE_txt varchar(255),\n",
    "#BETA int,  \n",
    "#novCI varchar(255)\n",
    ");\n",
    "\n",
    "CREATE TABLE enfermedad_loci\n",
    "(\n",
    "id_loci int ,\n",
    "id_enfermedad int,\n",
    "PRIMARY KEY (id_loci, id_enfermedad),\n",
    "foreign key (id_loci) references loci(id_loci),\n",
    "foreign key (id_enfermedad) references enfermedad(id_enfermedad)\n",
    ");\n",
    "\n",
    "CREATE TABLE journal\n",
    "(\n",
    "id_journal int AUTO_INCREMENT PRIMARY KEY,\n",
    "nombre varchar(255)\n",
    ");\n",
    "\n",
    "CREATE TABLE estudio\n",
    "(\n",
    "id_estudio int AUTO_INCREMENT PRIMARY KEY,\n",
    "id_journal int,\n",
    "id_enfermedad int,\n",
    "foreign key (id_journal) references journal(id_journal),\n",
    "foreign key (id_enfermedad) references enfermedad(id_enfermedad),\n",
    "nombre varchar(255),\n",
    "tamano_muestra varchar(500),\n",
    "replicas varchar(500)\n",
    ");\n",
    "\n",
    "create table publicacion\n",
    "(\n",
    "id_publicacion int AUTO_INCREMENT PRIMARY KEY,\n",
    "id_journal int,\n",
    "id_estudio int,\n",
    "foreign key (id_journal) references journal(id_journal),\n",
    "foreign key (id_estudio) references estudio(id_estudio),\n",
    "id_pubmed int,\n",
    "autor varchar (255),\n",
    "fecha_pub varchar (20),\n",
    "link varchar (500)\n",
    ");\n"
   ]
  },
  {
   "cell_type": "markdown",
   "metadata": {},
   "source": [
    "## Ejercicio 2\n",
    "\n",
    "Lea el archivo y guarde la infomación en la base de datos en las tablas que se definidieron en el __Ejercicio 1__."
   ]
  },
  {
   "cell_type": "code",
   "execution_count": 6,
   "metadata": {
    "collapsed": false,
    "scrolled": true
   },
   "outputs": [
    {
     "data": {
      "text/html": [
       "<div>\n",
       "<table border=\"1\" class=\"dataframe\">\n",
       "  <thead>\n",
       "    <tr style=\"text-align: right;\">\n",
       "      <th></th>\n",
       "      <th>DATE ADDED TO CATALOG</th>\n",
       "      <th>PUBMEDID</th>\n",
       "      <th>FIRST AUTHOR</th>\n",
       "      <th>DATE</th>\n",
       "      <th>JOURNAL</th>\n",
       "      <th>LINK</th>\n",
       "      <th>STUDY</th>\n",
       "      <th>DISEASE/TRAIT</th>\n",
       "      <th>INITIAL SAMPLE SIZE</th>\n",
       "      <th>REPLICATION SAMPLE SIZE</th>\n",
       "      <th>...</th>\n",
       "      <th>CONTEXT</th>\n",
       "      <th>INTERGENIC</th>\n",
       "      <th>RISK ALLELE FREQUENCY</th>\n",
       "      <th>P-VALUE</th>\n",
       "      <th>PVALUE_MLOG</th>\n",
       "      <th>P-VALUE (TEXT)</th>\n",
       "      <th>OR or BETA</th>\n",
       "      <th>95% CI (TEXT)</th>\n",
       "      <th>PLATFORM [SNPS PASSING QC]</th>\n",
       "      <th>CNV</th>\n",
       "    </tr>\n",
       "  </thead>\n",
       "  <tbody>\n",
       "    <tr>\n",
       "      <th>0</th>\n",
       "      <td>2009-09-28</td>\n",
       "      <td>18403759</td>\n",
       "      <td>Ober C</td>\n",
       "      <td>2008-04-09</td>\n",
       "      <td>N Engl J Med</td>\n",
       "      <td>www.ncbi.nlm.nih.gov/pubmed/18403759</td>\n",
       "      <td>Effect of variation in CHI3L1 on serum YKL-40 ...</td>\n",
       "      <td>YKL-40 levels</td>\n",
       "      <td>632 Hutterite individuals</td>\n",
       "      <td>443 European ancestry cases, 491 European ance...</td>\n",
       "      <td>...</td>\n",
       "      <td>upstream_gene_variant</td>\n",
       "      <td>0.0</td>\n",
       "      <td>0.29</td>\n",
       "      <td>1e-13</td>\n",
       "      <td>13.0</td>\n",
       "      <td>NaN</td>\n",
       "      <td>0.3</td>\n",
       "      <td>[NR] ng/ml decrease</td>\n",
       "      <td>Affymetrix [290325]</td>\n",
       "      <td>N</td>\n",
       "    </tr>\n",
       "  </tbody>\n",
       "</table>\n",
       "<p>1 rows × 34 columns</p>\n",
       "</div>"
      ],
      "text/plain": [
       "  DATE ADDED TO CATALOG  PUBMEDID FIRST AUTHOR        DATE       JOURNAL  \\\n",
       "0            2009-09-28  18403759       Ober C  2008-04-09  N Engl J Med   \n",
       "\n",
       "                                   LINK  \\\n",
       "0  www.ncbi.nlm.nih.gov/pubmed/18403759   \n",
       "\n",
       "                                               STUDY  DISEASE/TRAIT  \\\n",
       "0  Effect of variation in CHI3L1 on serum YKL-40 ...  YKL-40 levels   \n",
       "\n",
       "         INITIAL SAMPLE SIZE  \\\n",
       "0  632 Hutterite individuals   \n",
       "\n",
       "                             REPLICATION SAMPLE SIZE ...   \\\n",
       "0  443 European ancestry cases, 491 European ance... ...    \n",
       "\n",
       "                 CONTEXT INTERGENIC RISK ALLELE FREQUENCY P-VALUE PVALUE_MLOG  \\\n",
       "0  upstream_gene_variant        0.0                  0.29   1e-13        13.0   \n",
       "\n",
       "   P-VALUE (TEXT)  OR or BETA        95% CI (TEXT)  \\\n",
       "0             NaN         0.3  [NR] ng/ml decrease   \n",
       "\n",
       "   PLATFORM [SNPS PASSING QC]  CNV  \n",
       "0         Affymetrix [290325]    N  \n",
       "\n",
       "[1 rows x 34 columns]"
      ]
     },
     "execution_count": 6,
     "metadata": {},
     "output_type": "execute_result"
    }
   ],
   "source": [
    "df.head(1)"
   ]
  },
  {
   "cell_type": "code",
<<<<<<< HEAD
   "execution_count": 1,
=======
   "execution_count": 7,
>>>>>>> 20129bebfd7a018a7e26ef32583750b2c504af7e
   "metadata": {
    "collapsed": false
   },
   "outputs": [
    {
     "ename": "NameError",
     "evalue": "name 'mysql' is not defined",
     "output_type": "error",
     "traceback": [
      "\u001b[0;31m---------------------------------------------------------------------------\u001b[0m",
      "\u001b[0;31mNameError\u001b[0m                                 Traceback (most recent call last)",
      "\u001b[0;32m<ipython-input-1-947bbfab9a2f>\u001b[0m in \u001b[0;36m<module>\u001b[0;34m()\u001b[0m\n\u001b[1;32m     12\u001b[0m         \u001b[0;32mprint\u001b[0m \u001b[0;34m(\u001b[0m\u001b[0mid_nombre\u001b[0m\u001b[0;34m,\u001b[0m \u001b[0mid_enfermedad\u001b[0m\u001b[0;34m)\u001b[0m\u001b[0;34m\u001b[0m\u001b[0m\n\u001b[1;32m     13\u001b[0m \u001b[0;34m\u001b[0m\u001b[0m\n\u001b[0;32m---> 14\u001b[0;31m \u001b[0mmyConnection\u001b[0m \u001b[0;34m=\u001b[0m \u001b[0mmysql\u001b[0m\u001b[0;34m.\u001b[0m\u001b[0mconnector\u001b[0m\u001b[0;34m.\u001b[0m\u001b[0mconnect\u001b[0m\u001b[0;34m(\u001b[0m \u001b[0mhost\u001b[0m\u001b[0;34m=\u001b[0m\u001b[0mhostname\u001b[0m\u001b[0;34m,\u001b[0m \u001b[0muser\u001b[0m\u001b[0;34m=\u001b[0m\u001b[0musername\u001b[0m\u001b[0;34m,\u001b[0m \u001b[0mpasswd\u001b[0m\u001b[0;34m=\u001b[0m\u001b[0mpassword\u001b[0m\u001b[0;34m,\u001b[0m \u001b[0mdb\u001b[0m\u001b[0;34m=\u001b[0m\u001b[0mdatabase\u001b[0m \u001b[0;34m)\u001b[0m\u001b[0;34m\u001b[0m\u001b[0m\n\u001b[0m\u001b[1;32m     15\u001b[0m \u001b[0mdoQuery\u001b[0m\u001b[0;34m(\u001b[0m \u001b[0mmyConnection\u001b[0m \u001b[0;34m)\u001b[0m\u001b[0;34m\u001b[0m\u001b[0m\n\u001b[1;32m     16\u001b[0m \u001b[0mmyConnection\u001b[0m\u001b[0;34m.\u001b[0m\u001b[0mclose\u001b[0m\u001b[0;34m(\u001b[0m\u001b[0;34m)\u001b[0m\u001b[0;34m\u001b[0m\u001b[0m\n",
      "\u001b[0;31mNameError\u001b[0m: name 'mysql' is not defined"
     ]
    }
   ],
   "source": [
    "hostname = '127.0.0.1'\n",
    "username = 'alexacl95'\n",
    "password = 'SUSAna05'\n",
    "database = 'programacion'\n",
    "\n",
    "def doQuery( conn ) :\n",
    "    cur = conn.cursor()\n",
    "\n",
    "    cur.execute( \"select * from enfermedad_loci\" )\n",
    "\n",
    "    for id_nombre, id_enfermedad in cur.fetchall(): \n",
    "        print (id_nombre, id_enfermedad)\n",
    "\n",
    "myConnection = mysql.connector.connect( host=hostname, user=username, passwd=password, db=database )\n",
    "doQuery( myConnection )\n",
    "myConnection.close()"
   ]
  },
  {
   "cell_type": "code",
   "execution_count": 27,
   "metadata": {
    "collapsed": true
   },
   "outputs": [],
   "source": [
    "def get_diseaseId(disease_name):\n",
    "    cur = myConnection.cursor()\n",
    "\n",
    "    cur.execute( \"\"\"select * from enfermedad where nombre = \"%s\" \"\"\" % (disease_name) )\n",
    "    \n",
    "    id_enf = None\n",
    "    for id_, dissease in cur.fetchall() :\n",
    "        id_enf = id_\n",
    "        \n",
    "    if not id_enf:\n",
    "        #print(\"\"\"insert into enfermedad values (NULL, \"%s\" )\"\"\" % (disease_name))\n",
    "        cur.execute(\"\"\"insert into enfermedad values (NULL, \"%s\" )\"\"\" % (disease_name))\n",
    "        cur.execute(\"SELECT LAST_INSERT_ID()\")\n",
    "        \n",
    "        id_enf = cur.fetchall()[0][0]\n",
    "        \n",
    "        myConnection.commit()\n",
    "        \n",
    "    return id_enf"
   ]
  },
  {
   "cell_type": "code",
   "execution_count": 28,
   "metadata": {
    "collapsed": true
   },
   "outputs": [],
   "source": [
    "def get_platId(plat_name):\n",
    "    cur = myConnection.cursor()\n",
    "\n",
    "    cur.execute( \"\"\"select * from plataforma where nombre = \"%s\" \"\"\" % (plat_name) )\n",
    "    \n",
    "    id_plat = None\n",
    "    for id_, nombre_plat in cur.fetchall() :\n",
    "        id_plat = id_\n",
    "        \n",
    "    if not id_plat:\n",
    "        #print(\"\"\"insert into plataforma values (NULL, \"%s\" )\"\"\" % (plat_name))\n",
    "        cur.execute(\"\"\"insert into plataforma values (NULL, \"%s\" )\"\"\" % (plat_name))\n",
    "        cur.execute(\"SELECT LAST_INSERT_ID()\")\n",
    "        \n",
    "                \n",
    "        id_plat = cur.fetchall()[0][0]\n",
    "        \n",
    "        myConnection.commit()\n",
    "        \n",
    "    return id_plat"
   ]
  },
  {
   "cell_type": "code",
   "execution_count": 29,
   "metadata": {
    "collapsed": true
   },
   "outputs": [],
   "source": [
    "def get_jourId(jour_name):\n",
    "    cur = myConnection.cursor()\n",
    "\n",
    "    cur.execute( \"\"\"select * from journal where nombre = \"%s\" \"\"\" % (jour_name) )\n",
    "    \n",
    "    id_jour = None\n",
    "    for id_, nombre_jour in cur.fetchall() :\n",
    "        id_jour = id_\n",
    "        \n",
    "    if not id_jour:\n",
    "        #print(\"\"\"insert into journal values (NULL, \"%s\" )\"\"\" % (jour_name))\n",
    "        cur.execute(\"\"\"insert into journal values (NULL, \"%s\" )\"\"\" % (jour_name))\n",
    "        cur.execute(\"SELECT LAST_INSERT_ID()\")\n",
    "        \n",
    "                \n",
    "        id_jour = cur.fetchall()[0][0]\n",
    "        \n",
    "        myConnection.commit()\n",
    "        \n",
    "    return id_jour"
   ]
  },
  {
   "cell_type": "code",
   "execution_count": 30,
   "metadata": {
    "collapsed": false
   },
   "outputs": [],
   "source": [
    "def get_estId(id_journal, id_enfermedad, est_name, tam_mues, replica):\n",
    "    cur = myConnection.cursor()\n",
    "\n",
    "    cur.execute( \"\"\"select * from estudio where nombre = \"%s\" \"\"\" % (est_name))\n",
    "    \n",
    "    id_est = None\n",
    "    for id_, id_journal, id_enfermedad, nombre_est, tam_mues, replica in cur.fetchall() :\n",
    "        id_est = id_\n",
    "        \n",
    "    if not id_est:\n",
    "        #print(\"\"\"insert into estudio values (NULL, \"%s\", \"%s\", \"%s\", \"%s\", \"%s\")\"\"\" % (id_journal, id_enfermedad,  est_name, tam_mues, replica))\n",
    "        cur.execute(\"\"\"insert into estudio values (NULL, \"%s\", \"%s\", \"%s\", \"%s\", \"%s\")\"\"\" % ( id_journal,id_enfermedad,est_name, tam_mues, replica))\n",
    "        cur.execute(\"SELECT LAST_INSERT_ID()\")\n",
    "    \n",
    "               \n",
    "        id_est = cur.fetchall()[0][0]\n",
    "    \n",
    "        myConnection.commit()\n",
    "        \n",
    "    return id_est"
   ]
  },
  {
   "cell_type": "code",
   "execution_count": 31,
   "metadata": {
    "collapsed": false
   },
   "outputs": [],
   "source": [
    "def get_locId(id_plataforma, region, chrom, pos, genes_reportados, gen_mapped, gen_upstream,gen_downstream, SNP_GENE_ID, UPSTREAM_GENE_DISTANCE, DOWNSTREAM_GENE_DISTANCE, STRONGEST_SP_RISK, SNPS, MERGED, SNP_ID_CURRENT, CONTEXTO, risk_allele):\n",
    "    cur = myConnection.cursor()\n",
    "\n",
    "    cur.execute( \"\"\"select * from loci where chrom = \"%s\" and pos=\"%s\" \"\"\" % (chrom,pos))\n",
    "    \n",
    "    id_loc = None\n",
    "    for id_,id_plataforma, region, chrom, pos, genes_reportados, gen_mapped, gen_upstream, gen_downstream, SNP_GENE_ID, UPSTREAM_GENE_DISTANCE, DOWNSTREAM_GENE_DISTANCE, STRONGEST_SP_RISK, SNPS, MERGED, SNP_ID_CURRENT, CONTEXTO, risk_allele in cur.fetchall() :\n",
    "        id_est = id_\n",
    "        \n",
    "    if not id_loc:\n",
    "        #print(\"\"\"insert into loci values (NULL, \"%s\",\"%s\", \"%s\", \"%s\", \"%s\",\n",
    "        #\"%s\",\"%s\", \"%s\", \"%s\", \"%s\",\n",
    "        #\"%s\",\"%s\", \"%s\", \"%s\", \"%s\",\n",
    "        #\"%s\",\"%s\")\"\"\" % (id_plataforma, region,chrom,pos,genes_reportados,\n",
    "        #                       gen_mapped, gen_upstream,gen_downstream, SNP_GENE_ID, \n",
    "        #                        UPSTREAM_GENE_DISTANCE, DOWNSTREAM_GENE_DISTANCE, \n",
    "        #                        STRONGEST_SP_RISK, SNPS, MERGED, SNP_ID_CURRENT, \n",
    "        #                        CONTEXTO, risk_allele))\n",
    "        \n",
    "        cur.execute(\"\"\"insert into loci values (NULL, \"%s\",\"%s\", \"%s\", \"%s\", \"%s\",\n",
    "        \"%s\",\"%s\", \"%s\", \"%s\", \"%s\",\n",
    "        \"%s\",\"%s\", \"%s\", \"%s\", \"%s\",\n",
    "        \"%s\",\"%s\")\"\"\" % (id_plataforma, region,chrom,pos,genes_reportados,\n",
    "                                gen_mapped, gen_upstream,gen_downstream, SNP_GENE_ID, \n",
    "                                UPSTREAM_GENE_DISTANCE, DOWNSTREAM_GENE_DISTANCE, \n",
    "                                STRONGEST_SP_RISK, SNPS, MERGED, SNP_ID_CURRENT, \n",
    "                                CONTEXTO, risk_allele))\n",
    "        cur.execute(\"SELECT LAST_INSERT_ID()\")\n",
    "    \n",
    "               \n",
    "        id_loc = cur.fetchall()[0][0]\n",
    "    \n",
    "        myConnection.commit()\n",
    "        \n",
    "    return id_loc"
   ]
  },
  {
   "cell_type": "code",
   "execution_count": 32,
   "metadata": {
    "collapsed": true
   },
   "outputs": [],
   "source": [
    "def get_pubId(id_journal, id_estudio, id_pubmed, autor, fecha_pub, link):\n",
    "    cur = myConnection.cursor()\n",
    "\n",
    "    cur.execute( \"\"\"select * from publicacion where id_pubmed = \"%s\" \"\"\" % (id_pubmed))\n",
    "    \n",
    "    id_pub = None\n",
    "    for id_, id_journal, id_estudio, idpubmed, autor, fecha_pub, link in cur.fetchall() :\n",
    "        id_pub = id_\n",
    "        \n",
    "    if not id_pub:\n",
    "        #print(\"\"\"insert into publicacion values (NULL, \"%s\", \"%s\", \"%s\", \"%s\", \"%s\", \"%s\")\"\"\" % (id_journal, id_estudio, id_pubmed, autor, fecha_pub, link))\n",
    "        cur.execute(\"\"\"insert into publicacion values (NULL, \"%s\", \"%s\", \"%s\", \"%s\", \"%s\", \"%s\")\"\"\" % (id_journal, id_estudio, id_pubmed, autor, fecha_pub, link))\n",
    "        cur.execute(\"SELECT LAST_INSERT_ID()\")\n",
    "    \n",
    "               \n",
    "        id_pub = cur.fetchall()[0][0]\n",
    "    \n",
    "        myConnection.commit()\n",
    "        \n",
    "    return id_pub"
   ]
  },
  {
   "cell_type": "code",
   "execution_count": 33,
   "metadata": {
    "collapsed": false
   },
   "outputs": [],
   "source": [
    "def get_enfloId(loci_id, id_enfermedad,):\n",
    "    cur=myConnection.cursor()\n",
    "    \n",
    "    cur.execute( \"\"\"select * from enfermedad_loci where id_loci = \"%s\" and id_enfermedad = \"%s\" \"\"\" % (id_loci, id_enfermedad))\n",
    "    \n",
    "    existe = None\n",
    "    for id_, loci_id, id_enfermedad in cur.fetchall() :\n",
    "        existe = True\n",
    "        \n",
    "    if not existe:\n",
    "        #print(\"\"\"insert into enfermedad_loci values (\"%s\",\"%s\")\"\"\" % (loci_id, id_enfermedad))\n",
    "        cur.execute(\"\"\"insert into enfermedad_loci values (\"%s\", \"%s\")\"\"\" % (loci_id, id_enfermedad))\n",
    "        myConnection.commit()"
   ]
  },
  {
   "cell_type": "code",
   "execution_count": 35,
   "metadata": {
    "collapsed": false,
    "scrolled": true
   },
   "outputs": [
    {
     "ename": "KeyboardInterrupt",
     "evalue": "",
     "output_type": "error",
     "traceback": [
      "\u001b[0;31m---------------------------------------------------------------------------\u001b[0m",
      "\u001b[0;31mKeyboardInterrupt\u001b[0m                         Traceback (most recent call last)",
      "\u001b[0;32m<ipython-input-35-bf2a2d008b78>\u001b[0m in \u001b[0;36m<module>\u001b[0;34m()\u001b[0m\n\u001b[1;32m     50\u001b[0m     \u001b[0mid_enfermedad\u001b[0m\u001b[1;33m=\u001b[0m\u001b[0mdissease_id\u001b[0m\u001b[1;33m\u001b[0m\u001b[0m\n\u001b[1;32m     51\u001b[0m     \u001b[0mloci_id\u001b[0m\u001b[1;33m=\u001b[0m\u001b[0mid_loci\u001b[0m\u001b[1;33m\u001b[0m\u001b[0m\n\u001b[0;32m---> 52\u001b[0;31m     \u001b[0mget_enfloId\u001b[0m\u001b[1;33m(\u001b[0m\u001b[0mloci_id\u001b[0m\u001b[1;33m,\u001b[0m \u001b[0mid_enfermedad\u001b[0m\u001b[1;33m)\u001b[0m\u001b[1;33m\u001b[0m\u001b[0m\n\u001b[0m\u001b[1;32m     53\u001b[0m \u001b[1;33m\u001b[0m\u001b[0m\n\u001b[1;32m     54\u001b[0m     \u001b[1;31m#identidad journal\u001b[0m\u001b[1;33m\u001b[0m\u001b[1;33m\u001b[0m\u001b[0m\n",
      "\u001b[0;32m<ipython-input-33-ec50b5916f8e>\u001b[0m in \u001b[0;36mget_enfloId\u001b[0;34m(loci_id, id_enfermedad)\u001b[0m\n\u001b[1;32m     11\u001b[0m         \u001b[1;31m#print(\"\"\"insert into enfermedad_loci values (\"%s\",\"%s\")\"\"\" % (loci_id, id_enfermedad))\u001b[0m\u001b[1;33m\u001b[0m\u001b[1;33m\u001b[0m\u001b[0m\n\u001b[1;32m     12\u001b[0m         \u001b[0mcur\u001b[0m\u001b[1;33m.\u001b[0m\u001b[0mexecute\u001b[0m\u001b[1;33m(\u001b[0m\u001b[1;34m\"\"\"insert into enfermedad_loci values (\"%s\", \"%s\")\"\"\"\u001b[0m \u001b[1;33m%\u001b[0m \u001b[1;33m(\u001b[0m\u001b[0mloci_id\u001b[0m\u001b[1;33m,\u001b[0m \u001b[0mid_enfermedad\u001b[0m\u001b[1;33m)\u001b[0m\u001b[1;33m)\u001b[0m\u001b[1;33m\u001b[0m\u001b[0m\n\u001b[0;32m---> 13\u001b[0;31m         \u001b[0mmyConnection\u001b[0m\u001b[1;33m.\u001b[0m\u001b[0mcommit\u001b[0m\u001b[1;33m(\u001b[0m\u001b[1;33m)\u001b[0m\u001b[1;33m\u001b[0m\u001b[0m\n\u001b[0m",
      "\u001b[0;32mC:\\Users\\Alex\\Anaconda3\\lib\\site-packages\\mysql\\connector\\connection.py\u001b[0m in \u001b[0;36mcommit\u001b[0;34m(self)\u001b[0m\n\u001b[1;32m   1476\u001b[0m     \u001b[1;32mdef\u001b[0m \u001b[0mcommit\u001b[0m\u001b[1;33m(\u001b[0m\u001b[0mself\u001b[0m\u001b[1;33m)\u001b[0m\u001b[1;33m:\u001b[0m\u001b[1;33m\u001b[0m\u001b[0m\n\u001b[1;32m   1477\u001b[0m         \u001b[1;34m\"\"\"Commit current transaction\"\"\"\u001b[0m\u001b[1;33m\u001b[0m\u001b[0m\n\u001b[0;32m-> 1478\u001b[0;31m         \u001b[0mself\u001b[0m\u001b[1;33m.\u001b[0m\u001b[0m_execute_query\u001b[0m\u001b[1;33m(\u001b[0m\u001b[1;34m\"COMMIT\"\u001b[0m\u001b[1;33m)\u001b[0m\u001b[1;33m\u001b[0m\u001b[0m\n\u001b[0m\u001b[1;32m   1479\u001b[0m \u001b[1;33m\u001b[0m\u001b[0m\n\u001b[1;32m   1480\u001b[0m     \u001b[1;32mdef\u001b[0m \u001b[0mrollback\u001b[0m\u001b[1;33m(\u001b[0m\u001b[0mself\u001b[0m\u001b[1;33m)\u001b[0m\u001b[1;33m:\u001b[0m\u001b[1;33m\u001b[0m\u001b[0m\n",
      "\u001b[0;32mC:\\Users\\Alex\\Anaconda3\\lib\\site-packages\\mysql\\connector\\connection.py\u001b[0m in \u001b[0;36m_execute_query\u001b[0;34m(self, query)\u001b[0m\n\u001b[1;32m   1497\u001b[0m             \u001b[1;32mraise\u001b[0m \u001b[0merrors\u001b[0m\u001b[1;33m.\u001b[0m\u001b[0mInternalError\u001b[0m\u001b[1;33m(\u001b[0m\u001b[1;34m\"Unread result found.\"\u001b[0m\u001b[1;33m)\u001b[0m\u001b[1;33m\u001b[0m\u001b[0m\n\u001b[1;32m   1498\u001b[0m \u001b[1;33m\u001b[0m\u001b[0m\n\u001b[0;32m-> 1499\u001b[0;31m         \u001b[0mself\u001b[0m\u001b[1;33m.\u001b[0m\u001b[0mcmd_query\u001b[0m\u001b[1;33m(\u001b[0m\u001b[0mquery\u001b[0m\u001b[1;33m)\u001b[0m\u001b[1;33m\u001b[0m\u001b[0m\n\u001b[0m\u001b[1;32m   1500\u001b[0m \u001b[1;33m\u001b[0m\u001b[0m\n\u001b[1;32m   1501\u001b[0m     \u001b[1;32mdef\u001b[0m \u001b[0m_info_query\u001b[0m\u001b[1;33m(\u001b[0m\u001b[0mself\u001b[0m\u001b[1;33m,\u001b[0m \u001b[0mquery\u001b[0m\u001b[1;33m)\u001b[0m\u001b[1;33m:\u001b[0m\u001b[1;33m\u001b[0m\u001b[0m\n",
      "\u001b[0;32mC:\\Users\\Alex\\Anaconda3\\lib\\site-packages\\mysql\\connector\\connection.py\u001b[0m in \u001b[0;36mcmd_query\u001b[0;34m(self, query)\u001b[0m\n\u001b[1;32m    720\u001b[0m         \u001b[1;32mif\u001b[0m \u001b[1;32mnot\u001b[0m \u001b[0misinstance\u001b[0m\u001b[1;33m(\u001b[0m\u001b[0mquery\u001b[0m\u001b[1;33m,\u001b[0m \u001b[0mbytes\u001b[0m\u001b[1;33m)\u001b[0m\u001b[1;33m:\u001b[0m\u001b[1;33m\u001b[0m\u001b[0m\n\u001b[1;32m    721\u001b[0m             \u001b[0mquery\u001b[0m \u001b[1;33m=\u001b[0m \u001b[0mquery\u001b[0m\u001b[1;33m.\u001b[0m\u001b[0mencode\u001b[0m\u001b[1;33m(\u001b[0m\u001b[1;34m'utf-8'\u001b[0m\u001b[1;33m)\u001b[0m\u001b[1;33m\u001b[0m\u001b[0m\n\u001b[0;32m--> 722\u001b[0;31m         \u001b[0mresult\u001b[0m \u001b[1;33m=\u001b[0m \u001b[0mself\u001b[0m\u001b[1;33m.\u001b[0m\u001b[0m_handle_result\u001b[0m\u001b[1;33m(\u001b[0m\u001b[0mself\u001b[0m\u001b[1;33m.\u001b[0m\u001b[0m_send_cmd\u001b[0m\u001b[1;33m(\u001b[0m\u001b[0mServerCmd\u001b[0m\u001b[1;33m.\u001b[0m\u001b[0mQUERY\u001b[0m\u001b[1;33m,\u001b[0m \u001b[0mquery\u001b[0m\u001b[1;33m)\u001b[0m\u001b[1;33m)\u001b[0m\u001b[1;33m\u001b[0m\u001b[0m\n\u001b[0m\u001b[1;32m    723\u001b[0m \u001b[1;33m\u001b[0m\u001b[0m\n\u001b[1;32m    724\u001b[0m         \u001b[1;32mif\u001b[0m \u001b[0mself\u001b[0m\u001b[1;33m.\u001b[0m\u001b[0m_have_next_result\u001b[0m\u001b[1;33m:\u001b[0m\u001b[1;33m\u001b[0m\u001b[0m\n",
      "\u001b[0;32mC:\\Users\\Alex\\Anaconda3\\lib\\site-packages\\mysql\\connector\\connection.py\u001b[0m in \u001b[0;36m_send_cmd\u001b[0;34m(self, command, argument, packet_number, packet, expect_response)\u001b[0m\n\u001b[1;32m    508\u001b[0m         \u001b[1;32mif\u001b[0m \u001b[1;32mnot\u001b[0m \u001b[0mexpect_response\u001b[0m\u001b[1;33m:\u001b[0m\u001b[1;33m\u001b[0m\u001b[0m\n\u001b[1;32m    509\u001b[0m             \u001b[1;32mreturn\u001b[0m \u001b[1;32mNone\u001b[0m\u001b[1;33m\u001b[0m\u001b[0m\n\u001b[0;32m--> 510\u001b[0;31m         \u001b[1;32mreturn\u001b[0m \u001b[0mself\u001b[0m\u001b[1;33m.\u001b[0m\u001b[0m_socket\u001b[0m\u001b[1;33m.\u001b[0m\u001b[0mrecv\u001b[0m\u001b[1;33m(\u001b[0m\u001b[1;33m)\u001b[0m\u001b[1;33m\u001b[0m\u001b[0m\n\u001b[0m\u001b[1;32m    511\u001b[0m \u001b[1;33m\u001b[0m\u001b[0m\n\u001b[1;32m    512\u001b[0m     \u001b[1;32mdef\u001b[0m \u001b[0m_send_data\u001b[0m\u001b[1;33m(\u001b[0m\u001b[0mself\u001b[0m\u001b[1;33m,\u001b[0m \u001b[0mdata_file\u001b[0m\u001b[1;33m,\u001b[0m \u001b[0msend_empty_packet\u001b[0m\u001b[1;33m=\u001b[0m\u001b[1;32mFalse\u001b[0m\u001b[1;33m)\u001b[0m\u001b[1;33m:\u001b[0m\u001b[1;33m\u001b[0m\u001b[0m\n",
      "\u001b[0;32mC:\\Users\\Alex\\Anaconda3\\lib\\site-packages\\mysql\\connector\\network.py\u001b[0m in \u001b[0;36mrecv_plain\u001b[0;34m(self)\u001b[0m\n\u001b[1;32m    224\u001b[0m             \u001b[0mpacket_len\u001b[0m \u001b[1;33m=\u001b[0m \u001b[1;36m0\u001b[0m\u001b[1;33m\u001b[0m\u001b[0m\n\u001b[1;32m    225\u001b[0m             \u001b[1;32mwhile\u001b[0m \u001b[0mpacket_len\u001b[0m \u001b[1;33m<\u001b[0m \u001b[1;36m4\u001b[0m\u001b[1;33m:\u001b[0m\u001b[1;33m\u001b[0m\u001b[0m\n\u001b[0;32m--> 226\u001b[0;31m                 \u001b[0mchunk\u001b[0m \u001b[1;33m=\u001b[0m \u001b[0mself\u001b[0m\u001b[1;33m.\u001b[0m\u001b[0msock\u001b[0m\u001b[1;33m.\u001b[0m\u001b[0mrecv\u001b[0m\u001b[1;33m(\u001b[0m\u001b[1;36m4\u001b[0m \u001b[1;33m-\u001b[0m \u001b[0mpacket_len\u001b[0m\u001b[1;33m)\u001b[0m\u001b[1;33m\u001b[0m\u001b[0m\n\u001b[0m\u001b[1;32m    227\u001b[0m                 \u001b[1;32mif\u001b[0m \u001b[1;32mnot\u001b[0m \u001b[0mchunk\u001b[0m\u001b[1;33m:\u001b[0m\u001b[1;33m\u001b[0m\u001b[0m\n\u001b[1;32m    228\u001b[0m                     \u001b[1;32mraise\u001b[0m \u001b[0merrors\u001b[0m\u001b[1;33m.\u001b[0m\u001b[0mInterfaceError\u001b[0m\u001b[1;33m(\u001b[0m\u001b[0merrno\u001b[0m\u001b[1;33m=\u001b[0m\u001b[1;36m2013\u001b[0m\u001b[1;33m)\u001b[0m\u001b[1;33m\u001b[0m\u001b[0m\n",
      "\u001b[0;31mKeyboardInterrupt\u001b[0m: "
     ]
    }
   ],
   "source": [
    "hostname = '127.0.0.1'\n",
    "username = 'alexacl95'\n",
    "password = 'SUSAna05'\n",
    "database = 'programacion'\n",
    "\n",
    "myConnection = mysql.connector.connect(host=hostname, user=username, passwd=password, db=database )\n",
    "cur=myConnection.cursor()\n",
    "\n",
    "for index, row in df.iterrows():\n",
    "    #identidad enfermedad\n",
    "    dissease_name = row['DISEASE/TRAIT']\n",
    "    dissease_id = get_diseaseId(dissease_name)\n",
    "        \n",
    "    #identidad plataforma\n",
    "    plat_name = row['PLATFORM [SNPS PASSING QC]']\n",
    "    plat_id = get_platId(plat_name)\n",
    "    \n",
    "    #identidad loci\n",
    "    id_plataforma = plat_id\n",
    "    region=row['REGION']\n",
    "    chrom=row['CHR_ID']\n",
    "    pos=row['CHR_POS']\n",
    "    genes_reportados=row['REPORTED GENE(S)']\n",
    "    gen_mapped=row['MAPPED_GENE']\n",
    "    gen_upstream=row['UPSTREAM_GENE_ID']\n",
    "    gen_downstream=row['DOWNSTREAM_GENE_ID']\n",
    "    SNP_GENE_ID=row['SNP_GENE_IDS']\n",
    "    UPSTREAM_GENE_DISTANCE=row['UPSTREAM_GENE_DISTANCE']\n",
    "    DOWNSTREAM_GENE_DISTANCE=row['DOWNSTREAM_GENE_DISTANCE']\n",
    "    STRONGEST_SP_RISK=row['STRONGEST SNP-RISK ALLELE']\n",
    "    SNPS=row['SNPS']\n",
    "    MERGED=row['MERGED']\n",
    "    SNP_ID_CURRENT=row['SNP_ID_CURRENT']\n",
    "    CONTEXTO=row['CONTEXT']\n",
    "    risk_allele=row['RISK ALLELE FREQUENCY']\n",
    "    #PVAL=row['P-VALUE']\n",
    "    #Pvalue_MLOG=row['PVALUE_MLOG']\n",
    "    #PVALUE_txt=row['P-VALUE (TEXT)']\n",
    "    #BETA=row['OR or BETA']\n",
    "    #novCI= row['95% CI (TEXT)']\n",
    "    id_loci= get_locId(id_plataforma, region,\n",
    "                       chrom,pos,genes_reportados, \n",
    "                       gen_mapped, gen_upstream,gen_downstream,\n",
    "                       SNP_GENE_ID, UPSTREAM_GENE_DISTANCE,\n",
    "                       DOWNSTREAM_GENE_DISTANCE,\n",
    "                       STRONGEST_SP_RISK, SNPS, MERGED, \n",
    "                        SNP_ID_CURRENT, CONTEXTO, risk_allele)\n",
    "   \n",
    "    #identidad loci enfermedad\n",
    "    id_enfermedad=dissease_id \n",
    "    loci_id=id_loci \n",
    "    get_enfloId(loci_id, id_enfermedad)\n",
    "    \n",
    "    #identidad journal\n",
    "    jour_name = row['JOURNAL']\n",
    "    jour_id = get_jourId(jour_name)\n",
    "    \n",
    "    #identidad estudio\n",
    "    id_enfermedad=dissease_id\n",
    "    id_journal=jour_id\n",
    "    est_name =  row['STUDY']\n",
    "    tam_mues = row['INITIAL SAMPLE SIZE']\n",
    "    replica = row['REPLICATION SAMPLE SIZE']\n",
    "    est_id = get_estId(id_journal, id_enfermedad, est_name, tam_mues, replica)\n",
    "    \n",
    "    #identidad publicacion\n",
    "    id_journal=jour_id\n",
    "    id_estudio=est_id\n",
    "    idpubmed= row['PUBMEDID']\n",
    "    autor= row['FIRST AUTHOR']\n",
    "    fecha_pub= row['DATE ADDED TO CATALOG']\n",
    "    link= row['LINK']\n",
    "    id_publicacion = get_pubId(id_journal, id_estudio, idpubmed, autor, fecha_pub, link)\n",
    "    \n",
    "                  \n",
    "myConnection.close()"
   ]
  },
  {
   "cell_type": "markdown",
   "metadata": {},
   "source": [
    "## Ejercicio 3\n",
    "\n",
    "Realize de la base de datos una consulta que le responda una pregunta biológica\n",
    "(e.g. qué genes estan relacionados con cuales enfermedades)"
   ]
  },
  {
   "cell_type": "code",
   "execution_count": 70,
   "metadata": {
    "collapsed": false,
    "scrolled": false
   },
   "outputs": [
    {
     "name": "stdout",
     "output_type": "stream",
     "text": [
      "***Enfermedad escogida: Atopic dermatitis\n",
      "- Codigo enfermedad: \n",
      "173\n",
      "- numero de locus afectados:\n",
      "4\n",
      "\n",
      "\n",
      "***Enfermedad escogida: Allergic rhinitis in asthma\n",
      "- Codigo enfermedad: \n",
      "719\n",
      "- numero de locus afectados:\n",
      "1\n",
      "\n",
      "\n",
      "***Enfermedad escogida: Asthma\n",
      "- Codigo enfermedad: \n",
      "73\n",
      "- numero de locus afectados:\n",
      "82\n",
      "\n",
      "\n",
      "***Enfermedad escogida: Allergic rhinitis\n",
      "- Codigo enfermedad: \n",
      "290\n",
      "- numero de locus afectados:\n",
      "19\n",
      "\n",
      "\n"
     ]
    }
   ],
   "source": [
    "#¿Cual es el numero de locus afectados para n enfermedades? con ejemplo para 4 enfermedades\n",
    "\n",
    "hostname = '127.0.0.1'\n",
    "username = 'alexacl95'\n",
    "password = 'SUSAna05'\n",
    "database = 'programacion'\n",
    "\n",
    "myConnection = mysql.connector.connect(host=hostname, user=username, passwd=password, db=database )\n",
    "\n",
    "\n",
    "def enfermedades_info_1(nombres_enfermedades):\n",
    "    cur=myConnection.cursor()\n",
    "    cromosoma=set()\n",
    "    regionafec= set()\n",
    "    posi=set()\n",
    "    N=len(nombres_enfermedades)\n",
    "    lol = []\n",
    "    num=0\n",
    "    count=0\n",
    "        \n",
    "    for i in range(len(nombres_enfermedades)):\n",
    "        cur.execute(\"\"\"select * FROM enfermedad where nombre= \"%s\" \"\"\" % nombres_enfermedades[i])\n",
    "        for id_, nombre_enf in cur.fetchall() :\n",
    "            print (\"***Enfermedad escogida: \" + nombre_enf)\n",
    "            print (\"- Codigo enfermedad: \" )\n",
    "            print (id_)\n",
    "    \n",
    "        num=0\n",
    "        cur.execute(\"\"\"select * FROM enfermedad_loci where id_enfermedad= \"%s\" \"\"\"  % id_)\n",
    "        for id_2, cod_enf in cur.fetchall() :\n",
    "            num=num + 1\n",
    "            \n",
    "        \n",
    "                   \n",
    "                    \n",
    "                                \n",
    "          \n",
    "        print(\"- numero de locus afectados:\")\n",
    "        print (num)\n",
    "        print()\n",
    "        print()\n",
    "   \n",
    "    \n",
    "enfermedades=(\"Atopic dermatitis\",\n",
    "              \"Allergic rhinitis in asthma\",\n",
    "              \"Asthma\", \"Allergic rhinitis\")\n",
    "enfermedades_info_1(enfermedades)\n",
    "myConnection.close()"
   ]
  },
  {
   "cell_type": "markdown",
   "metadata": {},
   "source": [
    "## Ejercicio 4\n",
    "\n",
    "Guarde el resultado de la consulta anterior en un archivo csv"
   ]
  },
  {
   "cell_type": "code",
   "execution_count": 74,
   "metadata": {
    "collapsed": false
   },
   "outputs": [
    {
     "data": {
      "text/plain": [
       "[['enfermedades', 'Codigo enfermedad', 'numero de locus afectados'],\n",
       " ['Asthma', 73, 82],\n",
       " ['Allergic rhinitis', 290, 19],\n",
       " ['Allergic rhinitis in asthma', 719, 1],\n",
       " ['Atopic dermatitis', 173, 4]]"
      ]
     },
     "execution_count": 74,
     "metadata": {},
     "output_type": "execute_result"
    }
   ],
   "source": [
    "hostname = '127.0.0.1'\n",
    "username = 'alexacl95'\n",
    "password = 'SUSAna05'\n",
    "database = 'programacion'\n",
    "\n",
    "myConnection = mysql.connector.connect(host=hostname, user=username, passwd=password, db=database )\n",
    "\n",
    "def enfermedades_info_2(nombres_enfermedades):\n",
    "    cur=myConnection.cursor()\n",
    "    cromosoma=set()\n",
    "    N= len(nombres_enfermedades)+1\n",
    "    lol = [[] for _ in range(N)]\n",
    "    lol[0].append(\"enfermedades\")\n",
    "    lol[0].append(\"Codigo enfermedad\") \n",
    "    lol[0].append(\"numero de locus afectados\") \n",
    "    for i in range(len(nombres_enfermedades)):\n",
    "        cur.execute(\"\"\"select * FROM enfermedad where nombre= \"%s\" \"\"\" % nombres_enfermedades[i])\n",
    "        for id_, nombre_enf in cur.fetchall() :\n",
    "                lol[i+1].append(nombre_enf)\n",
    "                lol[i+1].append(id_)\n",
    "        \n",
    "        num=0\n",
    "        cur.execute(\"\"\"select * FROM enfermedad_loci where id_enfermedad= \"%s\" \"\"\"  % id_)\n",
    "        for id_2, cod_enf in cur.fetchall() :\n",
    "            num=num + 1\n",
    "                \n",
    "              \n",
    "        lol[i+1].append(num)\n",
    "        \n",
    "       \n",
    "       \n",
    "        import csv\n",
    "        with open('enfermedades_c.csv', 'w', newline='') as csvfile:\n",
    "            writer = csv.writer(csvfile)\n",
    "            writer.writerows(lol)\n",
    "                  \n",
    "       \n",
    "    return lol\n",
    "\n",
    "enfermedades=(\"Asthma\", \"Allergic rhinitis\", \n",
    "              \"Allergic rhinitis in asthma\",\n",
    "             \"Atopic dermatitis\")\n",
    "enfermedades_info_2(enfermedades)"
   ]
  }
 ],
 "metadata": {
  "anaconda-cloud": {},
  "kernelspec": {
   "display_name": "Python 2",
   "language": "python",
   "name": "python2"
  },
  "language_info": {
   "codemirror_mode": {
    "name": "ipython",
    "version": 2
   },
   "file_extension": ".py",
   "mimetype": "text/x-python",
   "name": "python",
   "nbconvert_exporter": "python",
   "pygments_lexer": "ipython2",
   "version": "2.7.13"
  }
 },
 "nbformat": 4,
 "nbformat_minor": 1
}
